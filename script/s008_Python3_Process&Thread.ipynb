{
 "cells": [
  {
   "cell_type": "markdown",
   "metadata": {},
   "source": [
    "## 2 Multiprocessing in Python\n",
    "\n",
    "Unix and Linux operating systems\n",
    "* create child processes : `fork()`   The parent process that calls the `fork()` function to creates a child process, which is a copy of the parent process but has its own PID. \n",
    "\n",
    "Windows OS:\n",
    "* create child processes : use the `Process` class from the `multiprocessing` module.   \n",
    "* `multiprocessing` module :\n",
    "\t* offer process pools (`Pool`) for batch process launching, \n",
    "\t* queues (`Queue`) and pipes (`Pipe`) for inter-process communication\n"
   ]
  },
  {
   "cell_type": "code",
   "execution_count": 3,
   "metadata": {},
   "outputs": [
    {
     "name": "stdout",
     "output_type": "stream",
     "text": [
      "Total used of 0.13 seconds.\n"
     ]
    }
   ],
   "source": [
    "## see script\\s008_sample_multiprocessing1.py"
   ]
  },
  {
   "cell_type": "markdown",
   "metadata": {},
   "source": [
    "## 2 Multiprocessing in Python\n",
    "\n",
    "### 2.1 threading\n",
    "\n",
    "Python in early versions, the `thread` module (now named `_thread`) was introduced for multithreading programming. However, this module is quite low-level and lacks many features.\n",
    "\n",
    "For Python multithreading development, it is recommended to use the `threading` module, which provides a better object-oriented encapsulation for multithreaded programming."
   ]
  },
  {
   "cell_type": "code",
   "execution_count": 7,
   "metadata": {},
   "outputs": [
    {
     "name": "stdout",
     "output_type": "stream",
     "text": [
      "Start download Python从入门到住院.pdf...\n",
      "Start download Peking Hot.avi...\n",
      "Python从入门到住院.pdf Complete! Total time spent:  6 seconds\n",
      "Peking Hot.avi Complete! Total time spent:  8 seconds\n",
      "Total time spent:  8.02 seconds.\n"
     ]
    }
   ],
   "source": [
    "\"\"\"\n",
    "Use `Thread` class in threading module to create thread\n",
    "the usage is similar to Process Class\n",
    "    Parameter:\n",
    "        target    : exec function name\n",
    "        arg       : arg to function\n",
    "    Functions:\n",
    "        thread.start()           : start thread\n",
    "        thread.join([timeout])   : wait thread finish\n",
    "    \n",
    "\"\"\"\n",
    "from random import randint\n",
    "from threading import Thread\n",
    "from time import time, sleep\n",
    "\n",
    "\n",
    "def download(filename):\n",
    "    print('Start download %s...' % filename)\n",
    "    time_to_download = randint(5, 10)\n",
    "    sleep(time_to_download)\n",
    "    print('%s Complete! Total time spent:  %d seconds' % (filename, time_to_download))\n",
    "\n",
    "def main():\n",
    "    start = time()\n",
    "    t1 = Thread(target=download, args=('Python从入门到住院.pdf',))\n",
    "    t1.start()\n",
    "    t2 = Thread(target=download, args=('Peking Hot.avi',))\n",
    "    t2.start()\n",
    "    t1.join()\n",
    "    t2.join()\n",
    "    end = time()\n",
    "    print('Total time spent:  %.2f seconds.' % (end - start))\n",
    "\n",
    "if __name__ == '__main__':\n",
    "    main()"
   ]
  },
  {
   "cell_type": "code",
   "execution_count": 6,
   "metadata": {},
   "outputs": [
    {
     "name": "stdout",
     "output_type": "stream",
     "text": [
      "Start Download Python从入门到住院.pdf...\n",
      "Start Download Peking Hot.avi...\n",
      "Python从入门到住院.pdfDownload Complete! Speed 8 Seconds\n",
      "Peking Hot.aviDownload Complete! Speed 8 Seconds\n",
      "Total time spent: 8.01 seconds.\n"
     ]
    }
   ],
   "source": [
    "\"\"\"\n",
    "Create a custome thread by Inheriting from Thread Class, and then create thread objects and start the threads.\n",
    "\"\"\"\n",
    "from random import randint\n",
    "from threading import Thread\n",
    "from time import time, sleep\n",
    "\n",
    "\n",
    "class DownloadTask(Thread):\n",
    "\n",
    "    def __init__(self, filename):\n",
    "        super().__init__()\n",
    "        self._filename = filename\n",
    "\n",
    "    def run(self):\n",
    "        print('Start Download %s...' % self._filename)\n",
    "        time_to_download = randint(5, 10)\n",
    "        sleep(time_to_download)\n",
    "        print('%sDownload Complete! Speed %d Seconds' % (self._filename, time_to_download))\n",
    "\n",
    "\n",
    "def main():\n",
    "    start = time()\n",
    "    t1 = DownloadTask('Python从入门到住院.pdf')\n",
    "    t1.start()\n",
    "    t2 = DownloadTask('Peking Hot.avi')\n",
    "    t2.start()\n",
    "    t1.join()\n",
    "    t2.join()\n",
    "    end = time()\n",
    "    print('Total time spent: %.2f seconds.' % (end - start))\n",
    "\n",
    "\n",
    "if __name__ == '__main__':\n",
    "    main()"
   ]
  },
  {
   "cell_type": "markdown",
   "metadata": {},
   "source": [
    "### 2.2 Lock\n",
    "\n",
    "  \n",
    "When multiple threads share the same resource (variable), it can lead to unpredictable(不可控) results, potentially causing the program to fail or crash. In such cases, a \"`lock`\" can be useful.\n",
    "We can use locks to protect the same resource. **Only the thread that acquires the lock(获得锁) can access this resource**, while other threads that do not have the lock will be blocked until the thread that holds the lock releases it. \n"
   ]
  },
  {
   "cell_type": "code",
   "execution_count": 8,
   "metadata": {},
   "outputs": [
    {
     "name": "stdout",
     "output_type": "stream",
     "text": [
      "Accout Balance: ￥100 Yuan\n"
     ]
    }
   ],
   "source": [
    "from time import sleep\n",
    "from threading import Thread, Lock\n",
    "\n",
    "class Account(object):\n",
    "\n",
    "    def __init__(self):\n",
    "        self._balance = 0\n",
    "        self._lock = Lock()\n",
    "\n",
    "    def deposit(self, money):\n",
    "        # Only acquires the lock can run the below code\n",
    "        self._lock.acquire()\n",
    "        try:\n",
    "            new_balance = self._balance + money\n",
    "            sleep(0.01)\n",
    "            self._balance = new_balance\n",
    "        finally:\n",
    "            # Ensure that locks are properly released\n",
    "            self._lock.release()\n",
    "\n",
    "    @property\n",
    "    def balance(self):\n",
    "        return self._balance\n",
    "\n",
    "\n",
    "class AddMoneyThread(Thread):\n",
    "\n",
    "    def __init__(self, account, money):\n",
    "        super().__init__()\n",
    "        self._account = account\n",
    "        self._money = money\n",
    "\n",
    "    def run(self):\n",
    "        self._account.deposit(self._money)\n",
    "\n",
    "\n",
    "def main():\n",
    "    account = Account()\n",
    "    threads = []\n",
    "    for _ in range(100):\n",
    "        t = AddMoneyThread(account, 1)            # init thread \n",
    "        threads.append(t)                         # collect all threads\n",
    "        t.start()                                 # run thread\n",
    "    for t in threads:\n",
    "        t.join()                                  # wait thread finish\n",
    "    print('Accout Balance: ￥%d Yuan' % account.balance)\n",
    "\n",
    "\n",
    "if __name__ == '__main__':\n",
    "    main()"
   ]
  }
 ],
 "metadata": {
  "kernelspec": {
   "display_name": ".venv",
   "language": "python",
   "name": "python3"
  },
  "language_info": {
   "codemirror_mode": {
    "name": "ipython",
    "version": 3
   },
   "file_extension": ".py",
   "mimetype": "text/x-python",
   "name": "python",
   "nbconvert_exporter": "python",
   "pygments_lexer": "ipython3",
   "version": "3.11.9"
  }
 },
 "nbformat": 4,
 "nbformat_minor": 2
}
