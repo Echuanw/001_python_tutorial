{
 "cells": [
  {
   "cell_type": "markdown",
   "metadata": {},
   "source": [
    "## 1 Function\n",
    "\n",
    "### 1.1 Function Describe"
   ]
  },
  {
   "cell_type": "code",
   "execution_count": 2,
   "metadata": {},
   "outputs": [
    {
     "name": "stdout",
     "output_type": "stream",
     "text": [
      "[0, 1, 1, 2, 3, 5, 8, 13]\n",
      "[0, 1, 1, 2, 3, 5, 8, 13]\n",
      "None\n"
     ]
    }
   ],
   "source": [
    "# define function\n",
    "def fib(n):                     # Fibonacci Sequence\n",
    "    result = []\n",
    "    a, b = 0, 1\n",
    "    while a < n:\n",
    "        result.append(a)    # see below\n",
    "        a, b = b, a+b\n",
    "    return result               # return value\n",
    "\n",
    "# parameter passing \n",
    "print(fib(20))\n",
    "\n",
    "# Passing functions as arguments\n",
    "f = fib\n",
    "print(f(20))\n",
    "\n",
    "# without a return statement returns `None`\n",
    "def a(n):\n",
    "\tn = n + 1\n",
    "print(a(1))    # None"
   ]
  },
  {
   "cell_type": "markdown",
   "metadata": {},
   "source": [
    "### 1.2 Function Parameters"
   ]
  },
  {
   "cell_type": "code",
   "execution_count": 4,
   "metadata": {},
   "outputs": [],
   "source": [
    "# Set default values ​​for parameters\n",
    "def ask_ok(prompt, retries=4, reminder='Please try again!'):\n",
    "\tpass\n",
    "ask_ok('Do')\n",
    "ask_ok('OK', 2)\n",
    "ask_ok('OK', 2, 'Come on')"
   ]
  },
  {
   "cell_type": "code",
   "execution_count": 5,
   "metadata": {},
   "outputs": [
    {
     "name": "stdout",
     "output_type": "stream",
     "text": [
      "5\n"
     ]
    }
   ],
   "source": [
    "# Default values are evaluated only once\n",
    "i = 5\n",
    "def f(arg=i):\n",
    "    print(arg)\n",
    "i = 6\n",
    "f()    # 5"
   ]
  },
  {
   "cell_type": "code",
   "execution_count": 6,
   "metadata": {},
   "outputs": [
    {
     "name": "stdout",
     "output_type": "stream",
     "text": [
      "[1]\n",
      "[1, 2]\n",
      "[1, 2, 3]\n"
     ]
    }
   ],
   "source": [
    "# When the default value is a mutable object like a list, dictionary, or class instance, it retains the computed value\n",
    "\t# Pass object address\n",
    "def f(a, L=[]):\n",
    "    L.append(a)\n",
    "    return L\n",
    "print(f(1))  # [1]\n",
    "print(f(2))  # [1, 2]\n",
    "print(f(3))  # [1, 2, 3]"
   ]
  },
  {
   "cell_type": "code",
   "execution_count": 7,
   "metadata": {},
   "outputs": [],
   "source": [
    "# Parameters with (*) :  add 0 or more parameters\n",
    "def write_multiple_items(file, separator, *args):\n",
    "    file.write(separator.join(args))"
   ]
  },
  {
   "cell_type": "code",
   "execution_count": 10,
   "metadata": {},
   "outputs": [],
   "source": [
    "# dict as parameter, use ** tag\n",
    "def test(**input_dict):\n",
    "    for k, v in input_dict.items():\n",
    "        print(k, v)\n"
   ]
  },
  {
   "cell_type": "code",
   "execution_count": 11,
   "metadata": {},
   "outputs": [
    {
     "name": "stdout",
     "output_type": "stream",
     "text": [
      "3\n"
     ]
    }
   ],
   "source": [
    "# must specify the variable name when passing parameters\n",
    "def kwd_only_arg(*, arg):\n",
    "    print(arg)\n",
    "kwd_only_arg(arg=3)  # must !!!"
   ]
  },
  {
   "cell_type": "markdown",
   "metadata": {},
   "source": [
    "### 1.3 functions as parameters"
   ]
  },
  {
   "cell_type": "code",
   "execution_count": 12,
   "metadata": {},
   "outputs": [
    {
     "name": "stdout",
     "output_type": "stream",
     "text": [
      "61.31200000000001\n",
      "99000\n",
      "61.31200000000001\n",
      "10400\n"
     ]
    }
   ],
   "source": [
    "\"\"\"\n",
    "func as parameter，time_record()，be used for caculate func running time\n",
    "\"\"\"\n",
    "import time as t\n",
    "def time_record(func, n, a, x): \n",
    "    start = t.perf_counter_ns()\n",
    "    func(n,a,x)\n",
    "    end = t.perf_counter_ns()\n",
    "    time_spend = end - start\n",
    "    return print(time_spend)\n",
    "    \n",
    "def mutinomial(n,a,x):\n",
    "    p = 0\n",
    "    for i in range(0,n+1):\n",
    "        p += a[i]*pow(x,i)\n",
    "    return print(p)\n",
    "\n",
    "def qinjiushao(n,a,x):\n",
    "    p = a[n]\n",
    "    for i in range(n,0,-1):\n",
    "        p *= x\n",
    "        p += a[i-1]\n",
    "    return print(p)\n",
    "\n",
    "if __name__ == '__main__':\n",
    "    n = 3\n",
    "    a = [2,1,3,4]\n",
    "    x = 2.2\n",
    "    time_record(mutinomial,n,a,x)\n",
    "    time_record(qinjiushao,n,a,x)"
   ]
  },
  {
   "cell_type": "markdown",
   "metadata": {},
   "source": [
    "### 1.4 Lambda Expressions\n",
    "\n",
    "Lambda Expressions as some small anonymous functions,  they are just syntactic sugar for a normal function definition."
   ]
  },
  {
   "cell_type": "code",
   "execution_count": 14,
   "metadata": {},
   "outputs": [
    {
     "name": "stdout",
     "output_type": "stream",
     "text": [
      "9\n",
      "10\n"
     ]
    }
   ],
   "source": [
    "# lambda Expressions As Return value\n",
    "def make_incrementor(n):\n",
    "    return lambda x: x + n\n",
    "plusFive = make_incrementor(5)  # plusFive = lambda x: x+5\n",
    "print(plusFive(4))              # 9\n",
    "print(make_incrementor(4)(6))   # 10\n",
    "    # # it likes scala Closure:\n",
    "\t# def make_incrementor(n)(x):\n",
    "\t#     return n + x\n",
    "\t# # plusFive = make_incrementor(5) just like:\n",
    "\t# def plusFive(x):\n",
    "\t#     return 5 + x"
   ]
  },
  {
   "cell_type": "code",
   "execution_count": 15,
   "metadata": {},
   "outputs": [
    {
     "data": {
      "text/plain": [
       "[(4, 'four'), (1, 'one'), (3, 'three'), (2, 'two')]"
      ]
     },
     "execution_count": 15,
     "metadata": {},
     "output_type": "execute_result"
    }
   ],
   "source": [
    "# lambda Expressions As Return Parameter\n",
    "pairs = [(1, 'one'), (2, 'two'), (3, 'three'), (4, 'four')]\n",
    "pairs.sort(key=lambda pair: pair[1])                       # sort key is second col\n",
    "pairs                                                      # [(4, 'four'), (1, 'one'), (3, 'three'), (2, 'two')]"
   ]
  },
  {
   "cell_type": "markdown",
   "metadata": {},
   "source": [
    "## 2 module & package\n",
    "\n",
    "The project is developed by a team of **multiple people**, there have **defined same functions named**. \n",
    "So how to solve this naming conflict? The answer is actually very simple. \n",
    "**Each file in Python represents a module.** We can have functions with the same name in different modules. \n",
    "When using functions, we `import`can distinguish which ones to use by importing the specified module with keywords. \n",
    "\n",
    "#### 2.1 Use module management functions"
   ]
  },
  {
   "cell_type": "code",
   "execution_count": 1,
   "metadata": {},
   "outputs": [
    {
     "name": "stdout",
     "output_type": "stream",
     "text": [
      "hello, world!\n",
      "goodbye, world!\n"
     ]
    }
   ],
   "source": [
    "\"\"\"test1\"\"\"\n",
    "from s004_sample_module1 import foo\n",
    "foo()  # out hello, world!\n",
    "\n",
    "from s004_sample_module2 import foo\n",
    "foo()  # out goodbye, world!"
   ]
  },
  {
   "cell_type": "code",
   "execution_count": 2,
   "metadata": {},
   "outputs": [
    {
     "name": "stdout",
     "output_type": "stream",
     "text": [
      "goodbye, world!\n"
     ]
    }
   ],
   "source": [
    "\"\"\"test2\"\"\"\n",
    "# the later imported overwrites the previously imported\n",
    "from s004_sample_module1 import foo\n",
    "from s004_sample_module2 import foo\n",
    "\n",
    "# out goodbye, world!\n",
    "foo()"
   ]
  },
  {
   "cell_type": "markdown",
   "metadata": {},
   "source": [
    "### 2.2 `__name__`\n",
    "\n",
    "Python interpreter will execute codes when importing this module.\n",
    "* shen a module is run directly, the value of `__name__` is `'__main__'`; \n",
    "* when the module is imported by another module, the value of `__name__` is the name of the module.\n",
    "So we can use `__name__` control running code."
   ]
  },
  {
   "cell_type": "code",
   "execution_count": 11,
   "metadata": {},
   "outputs": [],
   "source": [
    "\"\"\"test3\"\"\"\n",
    "import s004_sample_module3"
   ]
  }
 ],
 "metadata": {
  "kernelspec": {
   "display_name": ".venv",
   "language": "python",
   "name": "python3"
  },
  "language_info": {
   "codemirror_mode": {
    "name": "ipython",
    "version": 3
   },
   "file_extension": ".py",
   "mimetype": "text/x-python",
   "name": "python",
   "nbconvert_exporter": "python",
   "pygments_lexer": "ipython3",
   "version": "3.11.9"
  }
 },
 "nbformat": 4,
 "nbformat_minor": 2
}
