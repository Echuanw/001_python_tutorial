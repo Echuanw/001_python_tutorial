{
 "cells": [
  {
   "cell_type": "markdown",
   "metadata": {},
   "source": [
    "## 1 OOP basics\n",
    "\n",
    "### 1.1 Define class and use"
   ]
  },
  {
   "cell_type": "code",
   "execution_count": 5,
   "metadata": {},
   "outputs": [],
   "source": [
    "\"\"\"\n",
    "define class \n",
    "__init__  : used to init when creat instances\n",
    "\"\"\"\n",
    "class Student(object):\n",
    "\n",
    "    # init : bind two attributes: name and age\n",
    "    def __init__(self, name, age):\n",
    "        self.name = name\n",
    "        self.age = age\n",
    "\n",
    "    def study(self, course_name):\n",
    "        print('%s is learning %s.' % (self.name, course_name))\n",
    "\n",
    "    def watch_movie(self):\n",
    "        if self.age < 18:\n",
    "            print('%s is watching movie.' % self.name)\n",
    "        else:\n",
    "            print('%s is watching cartoon.' % self.name)"
   ]
  },
  {
   "cell_type": "code",
   "execution_count": 6,
   "metadata": {},
   "outputs": [
    {
     "name": "stdout",
     "output_type": "stream",
     "text": [
      "echuan is learning Python Design.\n",
      "echuan is watching cartoon.\n",
      "echo is learning Mind.\n",
      "echo is watching movie.\n"
     ]
    }
   ],
   "source": [
    "\"\"\"\n",
    "use class create instance\n",
    "\"\"\"\n",
    "def main():\n",
    "    # create student instance\n",
    "    stu1 = Student('echuan', 38)\n",
    "    # stu do study job\n",
    "    stu1.study('Python Design')\n",
    "    # stu do watch movie job\n",
    "    stu1.watch_movie()\n",
    "    stu2 = Student('echo', 15)\n",
    "    stu2.study('Mind')\n",
    "    stu2.watch_movie()\n",
    "\n",
    "if __name__ == '__main__':\n",
    "    main()"
   ]
  },
  {
   "cell_type": "markdown",
   "metadata": {},
   "source": [
    "### 1.2 Access issue\n",
    "\n",
    "We usually **set the properties of the object to private** or protected, which simply means that **external access is not allowed**, and the methods of the object are usually public ( public), because public methods are messages that the object can accept. \n",
    "In Python, there are only **two access permissions** for attributes and methods, namely **public and private**. \n",
    "If you want the attribute to be private, you can **start the attribute with two underscores** when naming it."
   ]
  },
  {
   "cell_type": "code",
   "execution_count": 10,
   "metadata": {},
   "outputs": [
    {
     "ename": "AttributeError",
     "evalue": "'Test' object has no attribute '__foo'",
     "output_type": "error",
     "traceback": [
      "\u001b[1;31m---------------------------------------------------------------------------\u001b[0m",
      "\u001b[1;31mAttributeError\u001b[0m                            Traceback (most recent call last)",
      "Cell \u001b[1;32mIn[10], line 21\u001b[0m\n\u001b[0;32m     18\u001b[0m     \u001b[38;5;28mprint\u001b[39m(test\u001b[38;5;241m.\u001b[39m__foo)               \u001b[38;5;66;03m# AttributeError: 'Test' object has no attribute '__foo'\u001b[39;00m\n\u001b[0;32m     20\u001b[0m \u001b[38;5;28;01mif\u001b[39;00m \u001b[38;5;18m__name__\u001b[39m \u001b[38;5;241m==\u001b[39m \u001b[38;5;124m\"\u001b[39m\u001b[38;5;124m__main__\u001b[39m\u001b[38;5;124m\"\u001b[39m:\n\u001b[1;32m---> 21\u001b[0m     \u001b[43mmain\u001b[49m\u001b[43m(\u001b[49m\u001b[43m)\u001b[49m\n",
      "Cell \u001b[1;32mIn[10], line 18\u001b[0m, in \u001b[0;36mmain\u001b[1;34m()\u001b[0m\n\u001b[0;32m     16\u001b[0m test \u001b[38;5;241m=\u001b[39m Test(\u001b[38;5;124m'\u001b[39m\u001b[38;5;124mhello\u001b[39m\u001b[38;5;124m'\u001b[39m)            \u001b[38;5;66;03m# private attribute can init ,but can not read by default way\u001b[39;00m\n\u001b[0;32m     17\u001b[0m \u001b[38;5;66;03m# test.__bar()                    # AttributeError: 'Test' object has no attribute '__bar'\u001b[39;00m\n\u001b[1;32m---> 18\u001b[0m \u001b[38;5;28mprint\u001b[39m(\u001b[43mtest\u001b[49m\u001b[38;5;241;43m.\u001b[39;49m\u001b[43m__foo\u001b[49m)\n",
      "\u001b[1;31mAttributeError\u001b[0m: 'Test' object has no attribute '__foo'"
     ]
    }
   ],
   "source": [
    "\"\"\"\n",
    "python has two access permission\n",
    "\t* public\n",
    "\t* private, start the attribute with two underscores\n",
    "\"\"\"\n",
    "class Test:\n",
    "    def __init__(self, foo):        # private __foo attribute\n",
    "        self.__foo = foo\n",
    "\n",
    "    def __bar(self):                # private __bar method\n",
    "        print(self.__foo)\n",
    "        print('__bar')\n",
    "\n",
    "\n",
    "def main():\n",
    "    test = Test('hello')            # private attribute can init ,but can not read by default way\n",
    "    # test.__bar()                    # AttributeError: 'Test' object has no attribute '__bar'\n",
    "    print(test.__foo)               # AttributeError: 'Test' object has no attribute '__foo'\n",
    "\n",
    "if __name__ == \"__main__\":\n",
    "    main()"
   ]
  },
  {
   "cell_type": "markdown",
   "metadata": {},
   "source": [
    "Python just **changes the name of private properties and methods** to hinder access to them. In fact, if you know the rules for changing names, you can still access them."
   ]
  },
  {
   "cell_type": "code",
   "execution_count": 8,
   "metadata": {},
   "outputs": [
    {
     "name": "stdout",
     "output_type": "stream",
     "text": [
      "hello\n",
      "__bar\n",
      "hello\n"
     ]
    }
   ],
   "source": [
    "class Test:\n",
    "\n",
    "    def __init__(self, foo):\n",
    "        self.__foo = foo\n",
    "\n",
    "    def __bar(self):\n",
    "        print(self.__foo)\n",
    "        print('__bar')\n",
    "\n",
    "\n",
    "def main():\n",
    "    test = Test('hello')\n",
    "    test._Test__bar()                  # special way to access private attribute and method\n",
    "    print(test._Test__foo)\n",
    "\n",
    "\n",
    "if __name__ == \"__main__\":\n",
    "    main()"
   ]
  },
  {
   "cell_type": "markdown",
   "metadata": {},
   "source": [
    "### 1.3 nonlocal & global"
   ]
  },
  {
   "cell_type": "code",
   "execution_count": 2,
   "metadata": {},
   "outputs": [
    {
     "name": "stdout",
     "output_type": "stream",
     "text": [
      "#####LOCAL TEST######:\n",
      "After local assignment: local spam\n",
      "\n",
      "#####NONLOCAL TEST######:\n",
      "After nonlocal assignment: nonlocal spam in do_nonlocal() function\n",
      "\n",
      "#####GLOBAL TEST######:\n",
      "After local assignment: local spam\n",
      "After nonlocal assignment: nonlocal spam in do_nonlocal()\n",
      "After global assignment: nonlocal spam in do_nonlocal()\n",
      "In global scope: global spam in do_global()\n"
     ]
    }
   ],
   "source": [
    "\"\"\"\n",
    "    local   : defined inside the function\n",
    "    nonlocal: defined outside the function, but it's not a global var. so if it changed, it means modity outside local var.\n",
    "    global  : scope spans the entire module.to use a variable inside a function, need to use the global declaration\n",
    "\"\"\"\n",
    "print(\"#####LOCAL TEST######:\")\n",
    "def local_test():\n",
    "    def do_local():\n",
    "        spam = \"local spam in do_local() function\"  # do_local()'s local spam, can't access out of do_local()\n",
    "    spam = \"local spam\"\n",
    "    do_local()                           # local variable in function can't access out of scope\n",
    "    print(\"After local assignment:\", spam) # local spam\n",
    "local_test()\n",
    "\n",
    "\n",
    "print(\"\\r\\n#####NONLOCAL TEST######:\")\n",
    "def nonlocal_test():\n",
    "    def do_nonlocal():\n",
    "        nonlocal spam                        # defined outside the do_nonlocal(), but is not a global var\n",
    "        spam = \"nonlocal spam in do_nonlocal() function\"\n",
    "    spam = \"local spam\"                      # if outside var not exists, raise Error\n",
    "    do_nonlocal()                            # do_nonlocal() use outside var, so outside var changed\n",
    "    print(\"After nonlocal assignment:\", spam)# nonlocal spam in function\n",
    "nonlocal_test()\n",
    "\n",
    "\n",
    "print(\"\\r\\n#####GLOBAL TEST######:\")\n",
    "def global_test():\n",
    "    def do_local():\n",
    "        spam = \"local spam in do_local()\" \n",
    "    def do_nonlocal():\n",
    "        nonlocal spam  \n",
    "        spam = \"nonlocal spam in do_nonlocal()\"\n",
    "    def do_global():\n",
    "        global spam                          # use global mean it's global var\n",
    "        spam = \"global spam in do_global()\"\n",
    "    spam = \"local spam\"\n",
    "    do_local()                                \n",
    "    print(\"After local assignment:\", spam)    # local spam\n",
    "    do_nonlocal()                             \n",
    "    print(\"After nonlocal assignment:\", spam) # nonlocal spam in function\n",
    "    do_global()     \n",
    "    print(\"After global assignment:\", spam)   # this spam isn't global var, it's local var\n",
    "\n",
    "global_test()\n",
    "print(\"In global scope:\", spam)  # global spam in function"
   ]
  },
  {
   "cell_type": "markdown",
   "metadata": {},
   "source": [
    "### 1.4 @property decorator and `__slots__`\n",
    "\n",
    "`@property`: we do **not recommend** **setting attributes as private**, there are **problems** if the attributes are **directly exposed to the outside world**.\n",
    "* Our previous **suggestion** was to name the properties **starting with a single underscore**. It just a **Implication**, you also can access the properties py its name when you know them.\n",
    "* but we still recommend using the **@property** to wrap the getter and setter methods to make access to the properties safe and convenient\n",
    "\n",
    "`__slots__` : if we need to limit the custom type object to only be bound to certain attributes, we can limit it by defining the __slots__ variable in the class\n",
    "* Python is a dynamic languages, so a instance can use `obj.attribute = xxx` to create many properties. so we use `__slots__` to limit properties."
   ]
  },
  {
   "cell_type": "code",
   "execution_count": 19,
   "metadata": {},
   "outputs": [
    {
     "name": "stdout",
     "output_type": "stream",
     "text": [
      "王大锤 is 22 years old and not he is playing Cards.\n",
      "王二觉 is 15 years old and now he is playing Flying Chess .\n",
      "王大锤 is 22 years old and not he is playing Cards.\n"
     ]
    }
   ],
   "source": [
    "class Person(object):\n",
    "\n",
    "    # the `Person` object to only bind the specied : _name, _age, _gender\n",
    "    __slots__ = ('_name', '_age', '_gender')\n",
    "    \n",
    "\t# use single underscore\n",
    "    def __init__(self, name, age):\n",
    "        self._name = name\n",
    "        self._age = age\n",
    "\n",
    "    # wap getter method\n",
    "    @property\n",
    "    def name(self):                  # use : obj.name \n",
    "        return self._name\n",
    "    @name.setter\n",
    "    def name(self, name):            # use : obj.name = 'xxx'\n",
    "        self._name = name\n",
    "    \n",
    "    # wap getter method\n",
    "    @property\n",
    "    def age(self):\n",
    "        return self._age\n",
    "    @age.setter\n",
    "    def age(self, age):\n",
    "        self._age = age\n",
    "\t\n",
    "    def play(self):\n",
    "        if self._age <= 16:\n",
    "            print(f'{self._name} is {self._age} years old and now he is playing Flying Chess .')\n",
    "        else:\n",
    "            print(f'{self._name} is {self._age} years old and not he is playing Cards.')\n",
    "\n",
    "\n",
    "def main():\n",
    "    person = Person('王大锤', 22)\n",
    "    person.play()\n",
    "    person._name = '王二觉'    # we still can access properties by them name   \n",
    "    person._age = 15    \n",
    "    person.play()\n",
    "    person.name = '王大锤'      # but we use @property, can be more safe and convenient\n",
    "    person.age = 22     \n",
    "    person.play()\n",
    "    # person._is_gay = True    # After __slots__ Setting, raise AttributeError: 'Person' object has no attribute '_is_gay'\n",
    "\n",
    "if __name__ == '__main__':\n",
    "    main()"
   ]
  }
 ],
 "metadata": {
  "kernelspec": {
   "display_name": ".venv",
   "language": "python",
   "name": "python3"
  },
  "language_info": {
   "codemirror_mode": {
    "name": "ipython",
    "version": 3
   },
   "file_extension": ".py",
   "mimetype": "text/x-python",
   "name": "python",
   "nbconvert_exporter": "python",
   "pygments_lexer": "ipython3",
   "version": "3.11.9"
  }
 },
 "nbformat": 4,
 "nbformat_minor": 2
}
