{
 "cells": [
  {
   "cell_type": "markdown",
   "metadata": {},
   "source": [
    "## 1 File Operation\n",
    "\n",
    "### 1.2 Read and write text files"
   ]
  },
  {
   "cell_type": "code",
   "execution_count": 3,
   "metadata": {},
   "outputs": [
    {
     "name": "stdout",
     "output_type": "stream",
     "text": [
      "abc 123\n",
      "中文\n",
      "\n",
      "にほんご\n"
     ]
    }
   ],
   "source": [
    "\"\"\"\n",
    "try ... except ... finally : make the code robust and fault-tolerant\n",
    "\"\"\"\n",
    "def main():\n",
    "    f = None\n",
    "    try:\n",
    "        f = open('../assets/script_resource/happy.txt', 'r', encoding='utf-8')\n",
    "        print(f.read())\n",
    "    except FileNotFoundError:\n",
    "        print('Unable to open the specified file!')\n",
    "    except LookupError:\n",
    "        print('An unknown encoding has been specified!')\n",
    "    except UnicodeDecodeError:\n",
    "        print('Decoding error while reading the file!')\n",
    "    finally:\n",
    "        if f:\n",
    "            f.close()\n",
    "\n",
    "if __name__ == '__main__':\n",
    "    main()"
   ]
  },
  {
   "cell_type": "code",
   "execution_count": 10,
   "metadata": {},
   "outputs": [
    {
     "name": "stdout",
     "output_type": "stream",
     "text": [
      "abc 123\n",
      "中文\n",
      "\n",
      "にほんご\n",
      "\n",
      "abc 123\n",
      "中文\n",
      "\n",
      "にほんご\n",
      "\n",
      "abc 123\n",
      "中文\n",
      "\n",
      "にほんご\n"
     ]
    }
   ],
   "source": [
    "\"\"\"\n",
    "Read text files three ways:\n",
    "    open()                : return a file object\n",
    "    with open(filename, mode, encoding=None)\n",
    "        with              : Even if an exception occurs, the document can still be closed properly. Without `with`, you need to use `f.close()` to close the document.\n",
    "        mode              : w : only write;  a : open file and append;  r+ : read and write; no_mode : equals to r, only read\n",
    "                          : b read as binary： 如 wb rb rb+\n",
    "        encoding          : suggest \"utf-8\"\n",
    "    read()                : read all file at once \n",
    "    read(size)            : read size characters（string）或 size byte（binary）\n",
    "    readlines()           : read line by line, return line list\n",
    "    for_in loop read line : read line by line\n",
    "    write(string or binary)  write to file by string or binary\n",
    "\"\"\"\n",
    "import time\n",
    "\n",
    "def main():\n",
    "    # read all file at once \n",
    "    with open('../assets/script_resource/happy.txt', 'r', encoding='utf-8') as f:\n",
    "        print(f.read())\n",
    "    print()\n",
    "    \n",
    "    # read by line \n",
    "    with open('../assets/script_resource/happy.txt', encoding='utf-8') as f:\n",
    "        lines = f.readlines()            # return list\n",
    "        print(''.join(lines))\n",
    "    print()\n",
    "\n",
    "    # for_in loop read\n",
    "    with open('../assets/script_resource/happy.txt', mode='r', encoding='utf-8') as f:\n",
    "        for line in f:\n",
    "            print(line, end='')\n",
    "            time.sleep(0.5)\n",
    "    print()\n",
    "\n",
    "if __name__ == '__main__':\n",
    "    main()"
   ]
  },
  {
   "cell_type": "markdown",
   "metadata": {},
   "source": [
    "### 1.3 Read and write binary files"
   ]
  },
  {
   "cell_type": "code",
   "execution_count": 11,
   "metadata": {},
   "outputs": [
    {
     "name": "stdout",
     "output_type": "stream",
     "text": [
      "<class 'bytes'>\n",
      "Program execution has ended.\n"
     ]
    }
   ],
   "source": [
    "\"\"\"\n",
    "read image file by read and write binary \n",
    "\"\"\"\n",
    "def main():\n",
    "    try:\n",
    "        with open('../assets/script_resource/test.png', 'rb') as fs1:       # use rb , wb means read and write by binary format\n",
    "            data = fs1.read()\n",
    "            print(type(data))                      # <class 'bytes'>\n",
    "        with open('../assets/script_resource/test_copy.png', 'wb') as fs2:\n",
    "            fs2.write(data)\n",
    "    except FileNotFoundError as e:\n",
    "        print('Unable to open the specified file.')\n",
    "    except IOError as e:\n",
    "        print('Error occurred while reading or writing the file.')\n",
    "    print('Program execution has ended.')\n",
    "\n",
    "\n",
    "if __name__ == '__main__':\n",
    "    main()"
   ]
  },
  {
   "cell_type": "markdown",
   "metadata": {},
   "source": [
    "### 1.4 Read and write JSON files\n",
    "\n",
    "**json function**\n",
    "\n",
    "- `dump`- **Serialize** Python objects **into JSON files** \n",
    "- `dumps`- Process Python objects into JSON-formatted **strings**\n",
    "- `load`- **Deserialize JSON file** into **objects**\n",
    "- `loads`- **Deserialize** the contents of the **string** **into a Python object**"
   ]
  },
  {
   "cell_type": "code",
   "execution_count": 16,
   "metadata": {},
   "outputs": [
    {
     "name": "stdout",
     "output_type": "stream",
     "text": [
      "Save data Complete!\n",
      "{\"name\": \"王二觉\", \"age\": 38, \"qq\": 957658, \"friends\": [\"Echuan\", \"Echo\"], \"cars\": [{\"brand\": \"BYD\", \"max_speed\": 180}, {\"brand\": \"Audi\", \"max_speed\": 280}, {\"brand\": \"Benz\", \"max_speed\": 320}]}\n",
      "{'name': '王二觉', 'age': 38, 'qq': 957658, 'friends': ['Echuan', 'Echo'], 'cars': [{'brand': 'BYD', 'max_speed': 180}, {'brand': 'Audi', 'max_speed': 280}, {'brand': 'Benz', 'max_speed': 320}]}\n",
      "Read data Complete!\n"
     ]
    }
   ],
   "source": [
    "import json\n",
    "\n",
    "def main():\n",
    "    mydict = {\n",
    "        \"name\": \"王二觉\",\n",
    "        \"age\": 38,\n",
    "        \"qq\": 957658,\n",
    "        \"friends\": [\"Echuan\", \"Echo\"],\n",
    "        \"cars\": [\n",
    "            {\"brand\": \"BYD\", \"max_speed\": 180},\n",
    "            {\"brand\": \"Audi\", \"max_speed\": 280},\n",
    "            {\"brand\": \"Benz\", \"max_speed\": 320}\n",
    "        ]\n",
    "    }\n",
    "    try:\n",
    "        with open('../assets/script_resource/write_data.json', 'w', encoding='utf-8') as fs:\n",
    "            json.dump(mydict, fs, ensure_ascii=False)            # To properly save Chinese characters, Add ensure_ascii=False.\n",
    "    except IOError as e:\n",
    "        print(e)\n",
    "    print('Save data Complete!')\n",
    "\n",
    "    try:\n",
    "        with open('../assets/script_resource/write_data.json', 'r', encoding='utf-8') as fs:\n",
    "            json_obj = json.load(fs)\n",
    "            print(json.dumps(json_obj, ensure_ascii=False))       # To properly display Chinese characters, Add ensure_ascii=False.\n",
    "            print(json_obj)                                       # Directly output the object\n",
    "    except IOError as e:\n",
    "        print(e)\n",
    "    print('Read data Complete!')\n",
    "    \n",
    "if __name__ == '__main__':\n",
    "    main()"
   ]
  },
  {
   "cell_type": "markdown",
   "metadata": {},
   "source": [
    "## 2 Dir Operation\n",
    "\n",
    "### 2.2 Operate Dir basic\n",
    "\n",
    "In Python, operations for handling directories and files can be performed using the `os` and `shutil` modules from the standard library.\n",
    "\n",
    "- **Traverse Directory**\n",
    "- **Create Directory**\n",
    "- **Delete Directory**\n",
    "- **Find Directory**`\n"
   ]
  },
  {
   "cell_type": "code",
   "execution_count": 5,
   "metadata": {},
   "outputs": [
    {
     "name": "stdout",
     "output_type": "stream",
     "text": [
      "genericpath.exists() show : True\n",
      "genericpath.isfile() show : False\n",
      "genericpath.isdir() show : True\n"
     ]
    }
   ],
   "source": [
    "\"\"\"\n",
    "    os.isfile(path) : Is a path a file?\n",
    "    os.isdir(path)    : Traverse the entire directory tree, return three tuple\n",
    "\"\"\"\n",
    "import genericpath \n",
    "directory = '../script' \n",
    "print(\"genericpath.exists() show : \" + str(genericpath.exists(directory)))\n",
    "print(\"genericpath.isfile() show : \" + str(genericpath.isfile(directory)))\n",
    "print(\"genericpath.isdir() show : \" + str(genericpath.isdir(directory)))"
   ]
  },
  {
   "cell_type": "code",
   "execution_count": 19,
   "metadata": {},
   "outputs": [
    {
     "name": "stdout",
     "output_type": "stream",
     "text": [
      "os.listdir() show:\n",
      "006_Python3_IO&Exceptions.ipynb\n",
      "s002_python3_basic_syntax.ipynb\n",
      "s003_practice_tic_tac_toe.py\n",
      "s003_Python3_Data_Structure.ipynb\n",
      "s004_Python3_Function&Moudule.ipynb\n",
      "s004_sample_module1.py\n",
      "s004_sample_module2.py\n",
      "s004_sample_module3.py\n",
      "s005_Python3_OOP.ipynb\n",
      "__pycache__\n",
      "\n",
      "os.walk() show:\n",
      "Current Directory: ../script\n",
      "Directories: ['__pycache__']\n",
      "Files: ['006_Python3_IO&Exceptions.ipynb', 's002_python3_basic_syntax.ipynb', 's003_practice_tic_tac_toe.py', 's003_Python3_Data_Structure.ipynb', 's004_Python3_Function&Moudule.ipynb', 's004_sample_module1.py', 's004_sample_module2.py', 's004_sample_module3.py', 's005_Python3_OOP.ipynb']\n",
      "Current Directory: ../script\\__pycache__\n",
      "Directories: []\n",
      "Files: ['s004_sample_module1.cpython-311.pyc', 's004_sample_module2.cpython-311.pyc', 's004_sample_module3.cpython-311.pyc']\n"
     ]
    }
   ],
   "source": [
    "\"\"\"\n",
    "Traverse Directory\n",
    "    os.listdir(dir_path) : Only traverse one level, return filename\n",
    "    os.walk(dir_path)    : Traverse the entire directory tree, return three tuple\n",
    "\"\"\"\n",
    "import os \n",
    "directory = '../script' \n",
    "print(\"os.listdir() show:\")\n",
    "for filename in os.listdir(directory): \n",
    "    print(filename)                              # traverse one level and print all file and subdir \n",
    "\n",
    "print()\n",
    "print(\"os.walk() show:\")\n",
    "for dirpath, dirnames, filenames in os.walk(directory):   # show by dir\n",
    "    print(\"Current Directory:\", dirpath)         \n",
    "    print(\"Directories:\", dirnames) \n",
    "    print(\"Files:\", filenames)\n",
    "\n",
    "\"\"\"\n",
    "os.walk() show:\n",
    "\n",
    "Current Directory: ../script\n",
    "Directories: ['__pycache__']\n",
    "Files: ['006_Python3_IO&Exceptions.ipynb', 's002_python3_basic_syntax.ipynb', 's003_practice_tic_tac_toe.py', 's003_Python3_Data_Structure.ipynb', 's004_Python3_Function&Moudule.ipynb', 's004_sample_module1.py', 's004_sample_module2.py', 's004_sample_module3.py', 's005_Python3_OOP.ipynb']\n",
    "\n",
    "Current Directory: ../script\\__pycache__\n",
    "Directories: []\n",
    "Files: ['s004_sample_module1.cpython-311.pyc', 's004_sample_module2.cpython-311.pyc', 's004_sample_module3.cpython-311.pyc']\n",
    "\"\"\""
   ]
  },
  {
   "cell_type": "code",
   "execution_count": 20,
   "metadata": {},
   "outputs": [],
   "source": [
    "\"\"\"\n",
    "Create Directory\n",
    "    `os.mkdir()` to create a single directory  \n",
    "    `os.makedirs()` to create intermediate directories as needed\n",
    "\"\"\"\n",
    "import os\n",
    "\n",
    "already_exists_dir = '../assets/script_resource/'\n",
    "new_directory = already_exists_dir + 'test_mkdir'\n",
    "new_directories = already_exists_dir + 'test_mkdir/parent_directory/child_directory'\n",
    "\n",
    "os.mkdir(new_directory)       # create a single directory\n",
    "os.makedirs(new_directories)  # create intermediate directories as needed"
   ]
  },
  {
   "cell_type": "code",
   "execution_count": 21,
   "metadata": {},
   "outputs": [],
   "source": [
    "\"\"\"\n",
    "Delete Directory \n",
    "    * os.rmdir() to remove a single empty directory \n",
    "    * shutil.rmtree() to remove a directory and all its contents.\n",
    "\"\"\"\n",
    "import os\n",
    "import shutil\n",
    "\n",
    "already_exists_dir = '../assets/script_resource/'\n",
    "empty_directory = already_exists_dir + 'test_mkdir/parent_directory/child_directory'\n",
    "non_empty_directory = already_exists_dir + 'test_mkdir'\n",
    "\n",
    "os.rmdir(empty_directory)           # remove a single empty directory\n",
    "shutil.rmtree(non_empty_directory)  # remove a directory and all its contents"
   ]
  },
  {
   "cell_type": "code",
   "execution_count": 31,
   "metadata": {},
   "outputs": [
    {
     "name": "stdout",
     "output_type": "stream",
     "text": [
      "Directory exists.\n"
     ]
    },
    {
     "data": {
      "text/plain": [
       "['s003_practice_tic_tac_toe.py',\n",
       " 's004_sample_module1.py',\n",
       " 's004_sample_module2.py',\n",
       " 's004_sample_module3.py']"
      ]
     },
     "execution_count": 31,
     "metadata": {},
     "output_type": "execute_result"
    }
   ],
   "source": [
    "\"\"\"\n",
    "Find Directory\n",
    "    os.walk() + if , to travelse and find\n",
    "    os.path.exists()` to check if a specific directory exists.\n",
    "    glob.glob('*.py') : find file by Unix style pathname pattern expansion\n",
    "        - `*.txt`：匹配所有以 `.txt` 结尾的文件。\n",
    "        - `subdir/*.py`：匹配 `subdir` 子目录下的所有 `.py` 文件。\n",
    "        - `**/*.py`：递归匹配当前目录及所有子目录下的 `.py` 文件（需要使用 `glob.glob('**/*.py', recursive=True)`）。\n",
    "\"\"\"\n",
    "import glob\n",
    "import os\n",
    "\n",
    "directory = '../assets/script_resource/happy.txt'\n",
    "\n",
    "if os.path.exists(directory):              # Determine whether file or dir exists\n",
    "    print(\"Directory exists.\")\n",
    "else:\n",
    "    print(\"Directory does not exist.\")\n",
    "    \n",
    "glob_path = '../script/*.py'\n",
    "glob.glob('*.py')                           # ['s003_practice_tic_tac_toe.py', 's004_sample_module1.py', 's004_sample_module2.py', 's004_sample_module3.py']"
   ]
  },
  {
   "cell_type": "markdown",
   "metadata": {},
   "source": [
    "### 2.3 shutil Advanced handling"
   ]
  },
  {
   "cell_type": "code",
   "execution_count": 38,
   "metadata": {},
   "outputs": [
    {
     "data": {
      "text/plain": [
       "'../assets/script_resource/move/happy_move.txt'"
      ]
     },
     "execution_count": 38,
     "metadata": {},
     "output_type": "execute_result"
    }
   ],
   "source": [
    "\"\"\"\n",
    "shutil : Advanced file handling and directory management\n",
    "\"\"\"\n",
    "import shutil\n",
    "copy_path = '../assets/script_resource/copy'\n",
    "move_path = '../assets/script_resource/move'\n",
    "if not os.path.exists(copy_path):              # Determine whether file or dir exists\n",
    "    os.makedirs(copy_path)\n",
    "if not os.path.exists(move_path):              # Determine whether file or dir exists\n",
    "    os.makedirs(move_path)\n",
    "shutil.copyfile('../assets/script_resource/happy.txt', copy_path + '/happy_copy.txt')               # copy move won't create dir\n",
    "shutil.move('../assets/script_resource/copy/happy_copy.txt', move_path + '/happy_move.txt')        "
   ]
  },
  {
   "cell_type": "markdown",
   "metadata": {},
   "source": [
    "## 3 Exception\n",
    "\n",
    "### 3.1 Exception handle"
   ]
  },
  {
   "cell_type": "code",
   "execution_count": 39,
   "metadata": {},
   "outputs": [
    {
     "name": "stdout",
     "output_type": "stream",
     "text": [
      "OS error: [Errno 2] No such file or directory: 'myfile.txt'\n",
      "Goodbye, world!\n"
     ]
    }
   ],
   "source": [
    "\"\"\"\n",
    "try ... except ... finally ...\n",
    "\"\"\"\n",
    "import sys\n",
    "try:\n",
    "    f = open('myfile.txt')\n",
    "    s = f.readline()\n",
    "    i = int(s.strip())\n",
    "except OSError as err:\n",
    "    print(\"OS error:\", err)\n",
    "except ValueError:\n",
    "    print(\"Could not convert data to an integer.\")\n",
    "except Exception as err:\n",
    "    print(f\"Unexpected {err=}, {type(err)=}\")\n",
    "    raise\n",
    "finally:\n",
    "    print('Goodbye, world!')  "
   ]
  },
  {
   "cell_type": "markdown",
   "metadata": {},
   "source": [
    "3.2 Exception raise"
   ]
  },
  {
   "cell_type": "code",
   "execution_count": 40,
   "metadata": {},
   "outputs": [
    {
     "ename": "RuntimeError",
     "evalue": "Failed to open database",
     "output_type": "error",
     "traceback": [
      "\u001b[1;31m---------------------------------------------------------------------------\u001b[0m",
      "\u001b[1;31mConnectionError\u001b[0m                           Traceback (most recent call last)",
      "Cell \u001b[1;32mIn[40], line 9\u001b[0m\n\u001b[0;32m      8\u001b[0m \u001b[38;5;28;01mtry\u001b[39;00m:\n\u001b[1;32m----> 9\u001b[0m     \u001b[43mfunc\u001b[49m\u001b[43m(\u001b[49m\u001b[43m)\u001b[49m\n\u001b[0;32m     10\u001b[0m \u001b[38;5;28;01mexcept\u001b[39;00m \u001b[38;5;167;01mConnectionError\u001b[39;00m \u001b[38;5;28;01mas\u001b[39;00m exc:\n",
      "Cell \u001b[1;32mIn[40], line 6\u001b[0m, in \u001b[0;36mfunc\u001b[1;34m()\u001b[0m\n\u001b[0;32m      5\u001b[0m \u001b[38;5;28;01mdef\u001b[39;00m \u001b[38;5;21mfunc\u001b[39m():\n\u001b[1;32m----> 6\u001b[0m     \u001b[38;5;28;01mraise\u001b[39;00m \u001b[38;5;167;01mConnectionError\u001b[39;00m\n",
      "\u001b[1;31mConnectionError\u001b[0m: ",
      "\nThe above exception was the direct cause of the following exception:\n",
      "\u001b[1;31mRuntimeError\u001b[0m                              Traceback (most recent call last)",
      "Cell \u001b[1;32mIn[40], line 11\u001b[0m\n\u001b[0;32m      9\u001b[0m     func()\n\u001b[0;32m     10\u001b[0m \u001b[38;5;28;01mexcept\u001b[39;00m \u001b[38;5;167;01mConnectionError\u001b[39;00m \u001b[38;5;28;01mas\u001b[39;00m exc:\n\u001b[1;32m---> 11\u001b[0m     \u001b[38;5;28;01mraise\u001b[39;00m \u001b[38;5;167;01mRuntimeError\u001b[39;00m(\u001b[38;5;124m'\u001b[39m\u001b[38;5;124mFailed to open database\u001b[39m\u001b[38;5;124m'\u001b[39m) \u001b[38;5;28;01mfrom\u001b[39;00m \u001b[38;5;21;01mexc\u001b[39;00m\n",
      "\u001b[1;31mRuntimeError\u001b[0m: Failed to open database"
     ]
    }
   ],
   "source": [
    "\"\"\"\n",
    "raise\n",
    "\"\"\"\n",
    "# Propagate upward, passing the exception to upstream for handling\n",
    "def func():\n",
    "    raise ConnectionError \n",
    "    \n",
    "try:\n",
    "    func()\n",
    "except ConnectionError as exc:\n",
    "    raise RuntimeError('Failed to open database') from exc"
   ]
  }
 ],
 "metadata": {
  "kernelspec": {
   "display_name": ".venv",
   "language": "python",
   "name": "python3"
  },
  "language_info": {
   "codemirror_mode": {
    "name": "ipython",
    "version": 3
   },
   "file_extension": ".py",
   "mimetype": "text/x-python",
   "name": "python",
   "nbconvert_exporter": "python",
   "pygments_lexer": "ipython3",
   "version": "3.11.9"
  }
 },
 "nbformat": 4,
 "nbformat_minor": 2
}
