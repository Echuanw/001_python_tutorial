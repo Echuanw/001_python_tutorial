{
 "cells": [
  {
   "cell_type": "markdown",
   "metadata": {},
   "source": [
    "## 2 OOP Advance\n",
    "\n",
    "### 2.1 everything is an object"
   ]
  },
  {
   "cell_type": "code",
   "execution_count": 7,
   "metadata": {},
   "outputs": [
    {
     "name": "stdout",
     "output_type": "stream",
     "text": [
      "#########################Can be assigned to variables########################\n",
      "ask echuan\n",
      "create a person named echuan\n",
      "#########################Can be added to collection objects########################\n",
      "ask echuan\n",
      "None\n",
      "create a person named echuan\n",
      "<__main__.Person object at 0x000002A076D6CF10>\n",
      "#########################Can be passed as parameters to functions########################\n",
      "ask start at time : xxxx.xx.xx xx:xx:xx\n",
      "ask helen\n",
      "ask end at time : xxxx.xx.xx xx:xx:xx\n",
      "########################Can be returned as values from functions#########################\n",
      "dec start\n"
     ]
    },
    {
     "data": {
      "text/plain": [
       "<function __main__.ask(name='echuan')>"
      ]
     },
     "execution_count": 7,
     "metadata": {},
     "output_type": "execute_result"
    }
   ],
   "source": [
    "\"\"\"\n",
    "In Python, everything is an object.\n",
    "\"\"\"\n",
    "# function & class\n",
    "def ask(name='echuan'):\n",
    "    \"\"\"ask function for test\"\"\"\n",
    "    print(f\"ask {name}\")\n",
    "\n",
    "class Person:\n",
    "    def __init__(self):\n",
    "        print('create a person named echuan')\n",
    "\n",
    "# Can be assigned to variables\n",
    "print(\"#########################Can be assigned to variables########################\")\n",
    "my_fun = ask\n",
    "my_fun()\n",
    "\n",
    "my_class = Person\n",
    "my_class()\n",
    "\n",
    "# Can be added to collection objects\n",
    "print(\"#########################Can be added to collection objects########################\")\n",
    "obj_list = []\n",
    "obj_list.append(ask)\n",
    "obj_list.append(Person)\n",
    "for item in obj_list:\n",
    "    print(item())\n",
    "\n",
    "# Can be passed as parameters to functions\n",
    "print(\"#########################Can be passed as parameters to functions########################\")\n",
    "def logging_func(func, *args, **kwargs):\n",
    "    print(f\"{func.__name__} start at time : xxxx.xx.xx xx:xx:xx\")\n",
    "    func(*args, **kwargs)\n",
    "    print(f\"{func.__name__} end at time : xxxx.xx.xx xx:xx:xx\")\n",
    "logging_func(ask, 'helen')\n",
    "\n",
    "# Can be returned as values from functions\n",
    "print(\"########################Can be returned as values from functions#########################\")\n",
    "def decorator_func():\n",
    "    print(\"dec start\")\n",
    "    return ask\n",
    "\n",
    "decorator_func()"
   ]
  }
 ],
 "metadata": {
  "kernelspec": {
   "display_name": ".venv",
   "language": "python",
   "name": "python3"
  },
  "language_info": {
   "codemirror_mode": {
    "name": "ipython",
    "version": 3
   },
   "file_extension": ".py",
   "mimetype": "text/x-python",
   "name": "python",
   "nbconvert_exporter": "python",
   "pygments_lexer": "ipython3",
   "version": "3.11.9"
  }
 },
 "nbformat": 4,
 "nbformat_minor": 2
}
