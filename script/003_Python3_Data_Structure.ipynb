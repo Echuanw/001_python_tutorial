{
 "cells": [
  {
   "cell_type": "markdown",
   "metadata": {},
   "source": [
    "## 1 List\n",
    "\n",
    "### 1.1 Create List\n",
    "\n",
    "* list is a data sequence composed of **a series of elements** in **a specific order**, so we can use it to save multiple data.\n",
    "* list is a mutable type, so you can add and remove element."
   ]
  },
  {
   "cell_type": "code",
   "execution_count": 1,
   "metadata": {},
   "outputs": [
    {
     "name": "stdout",
     "output_type": "stream",
     "text": [
      "[35, 12, 99, 68, 55, 35, 87]\n",
      "['Python', 'Java', 'Go', 'Kotlin']\n",
      "[100, 12.3, 'Python', True]\n"
     ]
    }
   ],
   "source": [
    "\"\"\"\n",
    "create\n",
    "\"\"\"\n",
    "list0 = []                 # empty list\n",
    "list1 = [35, 12, 99, 68, 55, 35, 87]\n",
    "list2 = ['Python', 'Java', 'Go', 'Kotlin']\n",
    "list3 = [100, 12.3, 'Python', True]\n",
    "print(list1)               # [35, 12, 99, 68, 55, 35, 87]\n",
    "print(list2)               # ['Python', 'Java', 'Go', 'Kotlin']\n",
    "print(list3)               # [100, 12.3, 'Python', True]"
   ]
  },
  {
   "cell_type": "code",
   "execution_count": 2,
   "metadata": {},
   "outputs": [
    {
     "name": "stdout",
     "output_type": "stream",
     "text": [
      "[3, 5, 6, 9, 10, 12, 15, 18, 20, 21, 24, 25, 27, 30, 33, 35, 36, 39, 40, 42, 45, 48, 50, 51, 54, 55, 57, 60, 63, 65, 66, 69, 70, 72, 75, 78, 80, 81, 84, 85, 87, 90, 93, 95, 96, 99]\n",
      "[1225, 144, 9409, 4096, 3025]\n",
      "[97, 64, 55]\n"
     ]
    }
   ],
   "source": [
    "\"\"\"\n",
    "list comprehensions : create list by a simple way\n",
    "\"\"\"\n",
    "items = [i for i in range(1, 100) if i % 3 == 0 or i % 5 == 0]\n",
    "print(items)\n",
    "\n",
    "nums2 = [num ** 2 for num in [35, 12, 97, 64, 55]]\n",
    "print(nums2)\n",
    "\n",
    "nums2 = [num for num in [35, 12, 97, 64, 55] if num > 50]\n",
    "print(nums2)"
   ]
  },
  {
   "cell_type": "code",
   "execution_count": 4,
   "metadata": {},
   "outputs": [
    {
     "name": "stdout",
     "output_type": "stream",
     "text": [
      "[[84, 66, 72], [90, 60, 77], [86, 85, 81], [95, 90, 84], [71, 64, 99]]\n"
     ]
    }
   ],
   "source": [
    "\"\"\"\n",
    "Nested lists :use list comprehensions to generate nested list\n",
    "\tfive element , each element is a list which have three element.\n",
    "\"\"\"\n",
    "import random\n",
    "scores = [[random.randrange(60, 101) for _ in range(3)] for _ in range(5)]\n",
    "print(scores)"
   ]
  },
  {
   "cell_type": "markdown",
   "metadata": {},
   "source": [
    "### 1.2 Use of List"
   ]
  },
  {
   "cell_type": "code",
   "execution_count": 9,
   "metadata": {},
   "outputs": [
    {
     "name": "stdout",
     "output_type": "stream",
     "text": [
      "\n",
      "Operator + splice two lists:\n",
      "[35, 12, 99, 45, 66, 45, 58, 29]\n",
      "[45, 58, 29, 'Python', 'Java', 'JavaScript']\n",
      "[35, 12, 99, 45, 66, 45, 58, 29]\n",
      "\n",
      "Operator * repetition:\n",
      "[45, 58, 29, 45, 58, 29, 45, 58, 29]\n",
      "['Python', 'Java', 'JavaScript', 'Python', 'Java', 'JavaScript']\n",
      "\n",
      "Operator in determine whether an element is in the list:\n",
      "True\n",
      "False\n",
      "True\n",
      "False\n"
     ]
    }
   ],
   "source": [
    "\"\"\"\n",
    "`+`              splice two lists\n",
    "`*`              repetition operations on lists.\n",
    "`in` `not in`  determine whether an element is in the list\n",
    "\"\"\"\n",
    "items5 = [35, 12, 99, 45, 66]\n",
    "items6 = [45, 58, 29]\n",
    "items7 = ['Python', 'Java', 'JavaScript']\n",
    "\n",
    "print(\"\\r\\nOperator + splice two lists:\")\n",
    "print(items5 + items6)  # [35, 12, 99, 45, 66, 45, 58, 29]\n",
    "print(items6 + items7)  # [45, 58, 29, 'Python', 'Java', 'JavaScript']\n",
    "items5 += items6\n",
    "print(items5)  # [35, 12, 99, 45, 66, 45, 58, 29]\n",
    "\n",
    "print(\"\\r\\nOperator * repetition:\")\n",
    "print(items6 * 3)  # [45, 58, 29, 45, 58, 29, 45, 58, 29]\n",
    "print(items7 * 2)  # ['Python', 'Java', 'JavaScript', 'Python', 'Java', 'JavaScript']\n",
    "\n",
    "print(\"\\r\\nOperator in determine whether an element is in the list:\")\n",
    "print(29 in items6)  # True\n",
    "print(99 in items6)  # False\n",
    "print('C++' not in items7)     # True\n",
    "print('Python' not in items7)  # False"
   ]
  },
  {
   "cell_type": "code",
   "execution_count": 10,
   "metadata": {},
   "outputs": [
    {
     "name": "stdout",
     "output_type": "stream",
     "text": [
      "\n",
      "list[index]:\n",
      "apple\n",
      "pitaya\n",
      "watermelon\n",
      "['apple', 'waxberry', 'durian', 'peach', 'watermelon']\n",
      "apple\n",
      "\n",
      "list[start:end]:\n",
      "['waxberry', 'durian']\n",
      "['apple', 'waxberry', 'durian']\n",
      "['apple', 'durian', 'watermelon']\n",
      "['waxberry', 'durian']\n",
      "['peach', 'durian', 'waxberry', 'apple']\n"
     ]
    }
   ],
   "source": [
    "\"\"\"\n",
    "list[index]              index, index alse can be -1 to -N\n",
    "list[start:end]          slicing operation, default stride is 1\n",
    "list[start:end:stride]   slicing operation\n",
    "\"\"\"\n",
    "items8 = ['apple', 'waxberry', 'pitaya', 'peach', 'watermelon']\n",
    "print(\"\\r\\nlist[index]:\")\n",
    "print(items8[0])   # apple\n",
    "print(items8[2])   # pitaya\n",
    "print(items8[4])   # watermelon\n",
    "items8[2] = 'durian'\n",
    "print(items8)      # ['apple', 'waxberry', 'durian', 'peach', 'watermelon']\n",
    "print(items8[-5])  # 'apple'       \n",
    "\n",
    "print(\"\\r\\nlist[start:end]:\")\n",
    "print(items8[1:3])     # ['strawberry', 'durian']\n",
    "print(items8[:3:1])    # ['apple', 'strawberry', 'durian']\n",
    "print(items8[::2])     # ['apple', 'durian', 'watermelon']\n",
    "print(items8[-4:-2])   # ['strawberry', 'durian']\n",
    "print(items8[-2::-1])  # ['peach', 'durian', 'strawberry', 'apple']"
   ]
  },
  {
   "cell_type": "code",
   "execution_count": 11,
   "metadata": {},
   "outputs": [
    {
     "name": "stdout",
     "output_type": "stream",
     "text": [
      "\n",
      " append insert:\n",
      "['Python', 'Java', 'C++', 'JavaScript']\n",
      "['Python', 'SQL', 'Java', 'C++', 'JavaScript']\n",
      "\n",
      " remove pop clear:\n",
      "['Python', 'SQL', 'C++', 'JavaScript']\n",
      "SQL\n",
      "['Python', 'C++', 'SQL']\n",
      "[]\n",
      "\n",
      " del:\n",
      "['Python', 'C++']\n"
     ]
    }
   ],
   "source": [
    "\"\"\"\n",
    "list operate:\n",
    "\tlist.append(ele)        : adding elements to the end of the list\n",
    "\tlist.insert(index, ele) : new elements at the specified index\n",
    "\tlist.remove(ele)        : delete specified elements from the list\n",
    "\tlist.pop()              : deletes the last element in the list by default\n",
    "\tlist.pop(index)         : delete the element at the specified index. If not found, raise `IndexError`\n",
    "\tlist.clear()            : clear the elements in the list\n",
    "\tdel list[index]         : like list.pop(index)\n",
    "\"\"\"\n",
    "languages = ['Python', 'Java', 'C++']\n",
    "print(\"\\r\\n append insert:\")\n",
    "languages.append('JavaScript')\n",
    "print(languages)  # ['Python', 'Java', 'C++', 'JavaScript']\n",
    "languages.insert(1, 'SQL')\n",
    "print(languages)  # ['Python', 'SQL', 'Java', 'C++', 'JavaScript']\n",
    "\n",
    "print(\"\\r\\n remove pop clear:\")\n",
    "languages = ['Python', 'SQL', 'Java', 'C++', 'JavaScript']\n",
    "if 'Java' in languages:\n",
    "    languages.remove('Java')\n",
    "if 'Swift' in languages:\n",
    "    languages.remove('Swift')\n",
    "print(languages)  # ['Python', 'SQL', C++', 'JavaScript']\n",
    "languages.pop()\n",
    "temp = languages.pop(1)\n",
    "print(temp)       # SQL\n",
    "languages.append(temp)\n",
    "print(languages)  # ['Python', C++', 'SQL']\n",
    "languages.clear()\n",
    "print(languages)  # []\n",
    "\n",
    "print(\"\\r\\n del:\")\n",
    "items = ['Python', 'Java', 'C++']\n",
    "del items[1]\n",
    "print(items)  # ['Python', 'C++']"
   ]
  },
  {
   "cell_type": "code",
   "execution_count": 12,
   "metadata": {},
   "outputs": [
    {
     "name": "stdout",
     "output_type": "stream",
     "text": [
      "0\n",
      "5\n",
      "2\n",
      "1\n",
      "0\n"
     ]
    },
    {
     "ename": "ValueError",
     "evalue": "'Java' is not in list",
     "output_type": "error",
     "traceback": [
      "\u001b[1;31m---------------------------------------------------------------------------\u001b[0m",
      "\u001b[1;31mValueError\u001b[0m                                Traceback (most recent call last)",
      "Cell \u001b[1;32mIn[12], line 15\u001b[0m\n\u001b[0;32m     13\u001b[0m \u001b[38;5;28mprint\u001b[39m(items\u001b[38;5;241m.\u001b[39mcount(\u001b[38;5;124m'\u001b[39m\u001b[38;5;124mSwfit\u001b[39m\u001b[38;5;124m'\u001b[39m))      \u001b[38;5;66;03m# 0\u001b[39;00m\n\u001b[0;32m     14\u001b[0m \u001b[38;5;66;03m# find 'Java' from index 3\u001b[39;00m\n\u001b[1;32m---> 15\u001b[0m \u001b[38;5;28mprint\u001b[39m(\u001b[43mitems\u001b[49m\u001b[38;5;241;43m.\u001b[39;49m\u001b[43mindex\u001b[49m\u001b[43m(\u001b[49m\u001b[38;5;124;43m'\u001b[39;49m\u001b[38;5;124;43mJava\u001b[39;49m\u001b[38;5;124;43m'\u001b[39;49m\u001b[43m,\u001b[49m\u001b[43m \u001b[49m\u001b[38;5;241;43m3\u001b[39;49m\u001b[43m)\u001b[49m)    \u001b[38;5;66;03m# ValueError: 'Java' is not in list\u001b[39;00m\n",
      "\u001b[1;31mValueError\u001b[0m: 'Java' is not in list"
     ]
    }
   ],
   "source": [
    "\"\"\"\n",
    "ele index and frequency:\n",
    "\tlist.index(ele)        : find the index position of an element in the list. If not found, raise `ValueError`\n",
    "\tlist.index(ele,index)  : find the index position of an element from specified index.\n",
    "\tlist.count(ele)        : new elements at the specified index\n",
    "\"\"\"\n",
    "items = ['Python', 'Java', 'Java', 'C++', 'Kotlin', 'Python']\n",
    "print(items.index('Python'))     # 0\n",
    "# find 'Python' from index 1\n",
    "print(items.index('Python', 1))  # 5\n",
    "print(items.count('Python'))     # 2\n",
    "print(items.count('Kotlin'))     # 1\n",
    "print(items.count('Swfit'))      # 0\n",
    "# find 'Java' from index 3\n",
    "print(items.index('Java', 3))    # ValueError: 'Java' is not in list"
   ]
  },
  {
   "cell_type": "code",
   "execution_count": 13,
   "metadata": {},
   "outputs": [
    {
     "name": "stdout",
     "output_type": "stream",
     "text": [
      "\n",
      " sort reverse:\n",
      "['C++', 'Java', 'Kotlin', 'Python', 'Swift']\n",
      "['Swift', 'Python', 'Kotlin', 'Java', 'C++']\n"
     ]
    }
   ],
   "source": [
    "\"\"\"\n",
    "Sort and reverse\n",
    "\tlist.sort()     : sort by letter \n",
    "\tlist.reverse()\n",
    "\"\"\"\n",
    "items = ['Python', 'Java', 'C++', 'Kotlin', 'Swift']\n",
    "\n",
    "print(\"\\r\\n sort reverse:\")\n",
    "items.sort()\n",
    "print(items)  # ['C++', 'Java', 'Kotlin', 'Python', 'Swift']\n",
    "items.reverse()\n",
    "print(items)  # ['Swift', 'Python', 'Kotlin', 'Java', 'C++']"
   ]
  },
  {
   "cell_type": "markdown",
   "metadata": {},
   "source": [
    "## 2 Tuple\n",
    "\n",
    "* Tuple alse is a data sequence composed of **a series of elements** in **a specific order**, so we can use it to save multiple data.\n",
    "* But tuple is a immutable type. Once a tuple is defined, elements cannot be added or deleted, elements cannot be modify."
   ]
  },
  {
   "cell_type": "code",
   "execution_count": 14,
   "metadata": {},
   "outputs": [
    {
     "name": "stdout",
     "output_type": "stream",
     "text": [
      "\n",
      " type and len:\n",
      "<class 'tuple'>\n",
      "<class 'tuple'>\n",
      "<class 'tuple'>\n",
      "<class 'tuple'>\n",
      "<class 'tuple'>\n",
      "3\n",
      "3\n",
      "4\n",
      "0\n",
      "1\n",
      "\n",
      " []:\n",
      "35\n",
      "98\n",
      "98\n",
      "(35, 12)\n",
      "(35,)\n"
     ]
    }
   ],
   "source": [
    "\"\"\"\n",
    "() or ,                 : create tuple\n",
    "type(tuple)             : check type\n",
    "len(tuple)              : get num of tuple elements \n",
    "tuple[index]            : get element by index\n",
    "tuple[start:end]        : slicing operation, default stride is 1\n",
    "tuple[start:end:stride] : slicing operation\n",
    "\"\"\"\n",
    "t1 = (35, 12, 98)\n",
    "t2 = 35, 12, 98\n",
    "t3 = ('echuan', 43, True, '四川成都')\n",
    "t4 = ()\n",
    "t5 = 'hello',    \n",
    "\n",
    "print(\"\\r\\n type and len:\")\n",
    "print(type(t1))  # <class 'tuple'>\n",
    "print(type(t2))  # <class 'tuple'>\n",
    "print(type(t3))  # <class 'tuple'>\n",
    "print(type(t4))  # <class 'tuple'>\n",
    "print(type(t5))  # <class 'tuple'>\n",
    "print(len(t1))  # 3\n",
    "print(len(t2))  # 4\n",
    "print(len(t3))  # 4\n",
    "print(len(t4))  # 4\n",
    "print(len(t5))  # 4\n",
    "\n",
    "print(\"\\r\\n []:\")\n",
    "print(t1[0])    # 35\n",
    "print(t1[2])    # 98\n",
    "print(t2[-1])   # 四川成都\n",
    "print(t2[:2])   # (35, 12)\n",
    "print(t2[::3])  # (35,)"
   ]
  },
  {
   "cell_type": "code",
   "execution_count": 15,
   "metadata": {},
   "outputs": [
    {
     "name": "stdout",
     "output_type": "stream",
     "text": [
      "\n",
      " package unpackage:\n",
      "<class 'tuple'>\n",
      "(1, 10, 100)\n",
      "1 10 100\n",
      "\n",
      " immutable:\n"
     ]
    },
    {
     "ename": "TypeError",
     "evalue": "'tuple' object does not support item assignment",
     "output_type": "error",
     "traceback": [
      "\u001b[1;31m---------------------------------------------------------------------------\u001b[0m",
      "\u001b[1;31mTypeError\u001b[0m                                 Traceback (most recent call last)",
      "Cell \u001b[1;32mIn[15], line 17\u001b[0m\n\u001b[0;32m     15\u001b[0m \u001b[38;5;66;03m# immutable\u001b[39;00m\n\u001b[0;32m     16\u001b[0m \u001b[38;5;28mprint\u001b[39m(\u001b[38;5;124m\"\u001b[39m\u001b[38;5;130;01m\\r\u001b[39;00m\u001b[38;5;130;01m\\n\u001b[39;00m\u001b[38;5;124m immutable:\u001b[39m\u001b[38;5;124m\"\u001b[39m)\n\u001b[1;32m---> 17\u001b[0m \u001b[43ma\u001b[49m\u001b[43m[\u001b[49m\u001b[38;5;241;43m0\u001b[39;49m\u001b[43m]\u001b[49m \u001b[38;5;241m=\u001b[39m \u001b[38;5;241m88888\u001b[39m  \u001b[38;5;66;03m# TypeError\u001b[39;00m\n",
      "\u001b[1;31mTypeError\u001b[0m: 'tuple' object does not support item assignment"
     ]
    }
   ],
   "source": [
    "\"\"\"\n",
    "immutable tuple\n",
    "package and unpackage\n",
    "\"\"\"\n",
    "# package  \n",
    "print(\"\\r\\n package unpackage:\")\n",
    "a = 1, 10, 100\n",
    "print(type(a))  # <class 'tuple'>\n",
    "print(a)        # (1, 10, 100)\n",
    "\n",
    "# unpackage\n",
    "i, j, k = a\n",
    "print(i, j, k)  # 1 10 100\n",
    "\n",
    "# immutable\n",
    "print(\"\\r\\n immutable:\")\n",
    "a[0] = 88888  # TypeError"
   ]
  },
  {
   "cell_type": "code",
   "execution_count": 16,
   "metadata": {},
   "outputs": [
    {
     "name": "stdout",
     "output_type": "stream",
     "text": [
      "35\n",
      "12\n",
      "98\n",
      "True\n",
      "False\n",
      "True\n",
      "(35, 12, 98, 'echuan', 43, True, '四川成都')\n"
     ]
    }
   ],
   "source": [
    "\"\"\"\n",
    "* Traversal of elements\n",
    "* + , in ,not in\n",
    "\"\"\"\n",
    "t1 = (35, 12, 98)\n",
    "t3 = ('echuan', 43, True, '四川成都')\n",
    "# Traversal of elements\n",
    "for elem in t1:\n",
    "    print(elem)\n",
    "\n",
    "# operator in\n",
    "print(12 in t1)         # True\n",
    "print(99 in t1)         # False\n",
    "print('Hao' not in t3)  # False\n",
    "\n",
    "# operator +\n",
    "t6 = t1 + t3\n",
    "print(t6)  # (35, 12, 98, 'echuan', 43, True, '四川成都')"
   ]
  },
  {
   "cell_type": "code",
   "execution_count": 17,
   "metadata": {},
   "outputs": [
    {
     "name": "stdout",
     "output_type": "stream",
     "text": [
      "['apple', 'banana', 'orange']\n",
      "('apple', 'banana', 'orange')\n"
     ]
    }
   ],
   "source": [
    "\"\"\"\n",
    "tuple and list convert to each other\n",
    "\"\"\"\n",
    "infos = ('apple', 'banana', 'orange')\n",
    "print(list(infos))  # ['apple', 'banana', 'orange']\n",
    "\n",
    "frts = ['apple', 'banana', 'orange']\n",
    "print(tuple(frts))  # ('apple', 'banana', 'orange')"
   ]
  },
  {
   "cell_type": "markdown",
   "metadata": {},
   "source": [
    "## 3 Strings\n",
    "\n",
    "### 3.1 String Definition\n",
    "\n",
    "The so-called **string** is **a limited sequence composed of zero or more characters** , generally recorded as: $$ s = a_1a_2 \\cdots a_n ,,,,, (0 \\le n \\le \\infty) $$In Python program , we can represent a string by surrounding **single or multiple characters** with **single or double quotes**. The characters in the string can be special symbols (such as: 💩, 🐷, 🀄️), etc."
   ]
  },
  {
   "cell_type": "code",
   "execution_count": 18,
   "metadata": {},
   "outputs": [
    {
     "name": "stdout",
     "output_type": "stream",
     "text": [
      "hello, world!\n",
      "你好，世界！❤️\n",
      "\n",
      "hello,\n",
      "wonderful\n",
      "world!\n",
      "\n"
     ]
    }
   ],
   "source": [
    "\"\"\"\n",
    "\t* single or multiple characters\n",
    "\t* single or double quotes\n",
    "\t* three single or double quotes can include multiple lines \n",
    "\"\"\"\n",
    "s1 = 'hello, world!'\n",
    "s2 = \"你好，世界！❤️\"\n",
    "s3 = '''\n",
    "hello,\n",
    "wonderful\n",
    "world!\n",
    "'''\n",
    "print(s1)\n",
    "print(s2)\n",
    "print(s3)    # multiple lines"
   ]
  },
  {
   "cell_type": "code",
   "execution_count": 72,
   "metadata": {},
   "outputs": [
    {
     "name": "stdout",
     "output_type": "stream",
     "text": [
      "This string will not include backslashes or newline characters.\n",
      "The \\character is called backslash\n",
      "Hello 'Python\"\n",
      "Helo\n",
      "Hello\n",
      "Python\n",
      "Hello\tPython\n",
      "a\n",
      "A\n",
      "\\u4e2d\\u6587\n",
      "中文\n"
     ]
    }
   ],
   "source": [
    "\"\"\"\n",
    "escape character:\n",
    "\tsome character itself has specified mean, such as `'` or `\"`, use to represent string. if want string container it, it must be escaped.\n",
    "\tuse backslash(`\\`) to indicate escape:\n",
    "\t\t\\<new line>   str still connect \n",
    "\t\t\\\\            \\\\\n",
    "\t\t\\'            '\n",
    "\t\t\\\"            \"\n",
    "\t\t\\n            New Line\n",
    "\t\t\\r            Carriage Return\n",
    "\t\t\\t            Tab\n",
    "\t\t\\b            Backspace\n",
    "\t\t\\ooo          Octal value, o is ortal number,from 0 to 7\n",
    "\t\t\\ xhh         Hex value, h is hexadecimal number, from 0 to F \n",
    "        \\ uxxxx        Unicode character Encoding\n",
    "\"\"\"\n",
    "s = 'This string will not include \\\n",
    "backslashes or newline characters.'\n",
    "print(s)                     # This string will not include backslashes or newline characters.\n",
    "\n",
    "s='The \\\\character is called backslash'\n",
    "print(s)                     # The \\character is called backslash\n",
    "\n",
    "s='Hello \\'Python\\\"'\n",
    "print(s)                     # Hello 'Python\"\n",
    "\n",
    "s='Hel\\blo'\n",
    "print(s)                     # Helo\n",
    "\n",
    "s='Hello\\nPython'\n",
    "print(s)                     # Hello<New Line>Python\n",
    "\n",
    "s='Hello\\tPython'\n",
    "print(s)                     # Hello\tPython\n",
    "\n",
    "s=\"\\141\"\n",
    "print(s)                     # OCT 141 is 64 + 32 + 1 = 97 Decimal , the ASCII value is a\n",
    "\n",
    "s=\"\\x41\"\n",
    "print (s)                    # Hex 41 is 4 * 16 + 1 = 65 Decimal, the ASCII value is A\n",
    "\n",
    "s=\"中文\"\n",
    "unicode_str = s.encode('unicode_escape').decode('utf-8')\n",
    "print(unicode_str)        # \\u4e2d\\u6587\n",
    "s = '\\u4e2d\\u6587'\n",
    "print(s)                  # 中文\n"
   ]
  },
  {
   "cell_type": "code",
   "execution_count": 61,
   "metadata": {},
   "outputs": [
    {
     "name": "stdout",
     "output_type": "stream",
     "text": [
      "This string will not include \\\n",
      "backslashes or newline characters.\n",
      "The \\\\character is called backslash\n",
      "Hello \\'Python\\\"\n",
      "Hello\\nPython\n",
      "\\141\n",
      "\\x41\n"
     ]
    }
   ],
   "source": [
    "\"\"\"\n",
    "raw string:\n",
    "\tStart with `r` or `R`.\n",
    "\tevery character in the string has its original meaning without so-called escape characters\n",
    "\"\"\"\n",
    "s = r'This string will not include \\\n",
    "backslashes or newline characters.'\n",
    "print(s)                     # This string will not include \\<New Line>backslashes or newline characters.\n",
    "\n",
    "s=r'The \\\\character is called backslash'\n",
    "print(s)                     # The \\\\character is called backslash\n",
    "\n",
    "s=R'Hello \\'Python\\\"'\n",
    "print(s)                     # Hello \\'Python\\\"\n",
    "\n",
    "s=R'Hello\\nPython'\n",
    "print(s)                     # Hello\\nPython\n",
    "\n",
    "s=R\"\\141\"\n",
    "print(s)                     # \\141\n",
    "\n",
    "s=R\"\\x41\"\n",
    "print (s)                    # \\x41"
   ]
  },
  {
   "cell_type": "markdown",
   "metadata": {},
   "source": [
    "### 3.2 String Operations\n",
    "\n",
    "The Python language provides a very rich set of operators for string types, many of which have similar functions to list type operators. \n",
    "For example:\n",
    "* use `+`operators to concatenate strings\n",
    "* use `*`operators to repeat the content of a string\n",
    "* use `in`and `not in`to determine whether a string contains another string\n",
    "* use the `[]`and `[:]`operator to convert characters from \n",
    "* Remove a certain character or certain string from the string."
   ]
  },
  {
   "cell_type": "code",
   "execution_count": 95,
   "metadata": {},
   "outputs": [
    {
     "name": "stdout",
     "output_type": "stream",
     "text": [
      "14\n",
      "[0, 1, 2, 3, 4]\n",
      "True\n",
      "100.001\n"
     ]
    }
   ],
   "source": [
    "\"\"\"\n",
    "len(str) : obtaining the number of list elements\n",
    "str(obj) : convert other to string\n",
    "\"\"\"\n",
    "print(len('goodbye, world'))  # 14\n",
    "print(str(list(range(5))))\n",
    "print(str(True))\n",
    "print(str(100.001))"
   ]
  },
  {
   "cell_type": "code",
   "execution_count": 74,
   "metadata": {},
   "outputs": [
    {
     "name": "stdout",
     "output_type": "stream",
     "text": [
      "hello, world\n",
      "!!!\n",
      "hello, world!!!\n",
      "hello, world!!!hello, world!!!\n"
     ]
    }
   ],
   "source": [
    "\"\"\"\n",
    " `+`AND `*`operator to concatenate and repeat strings\n",
    "\"\"\"\n",
    "s1 = 'hello' + ', ' + 'world'\n",
    "print(s1)    # hello, world\n",
    "s2 = '!' * 3\n",
    "print(s2)    # !!!\n",
    "s1 += s2\n",
    "print(s1)    # hello, world!!!\n",
    "s1 *= 2\n",
    "print(s1)    # hello, world!!!hello, world!!!"
   ]
  },
  {
   "cell_type": "code",
   "execution_count": 75,
   "metadata": {},
   "outputs": [
    {
     "name": "stdout",
     "output_type": "stream",
     "text": [
      "a a\n",
      "6 6\n",
      "c c\n",
      "3 3\n",
      "c12\n",
      "c12\n",
      "c123456\n",
      "ab\n",
      "ac246\n",
      "654321cba\n"
     ]
    }
   ],
   "source": [
    "\"\"\"\n",
    "Indexing and slicing\n",
    "\tstr[index] \n",
    "\tstr[start:stop:step]\n",
    "\"\"\"\n",
    "s = 'abc123456'\n",
    "n = len(s)\n",
    "print(s[0], s[-n])    # a a\n",
    "print(s[n-1], s[-1])  # 6 6\n",
    "print(s[2], s[-7])    # c c\n",
    "print(s[5], s[-4])    # 3 3\n",
    "print(s[2:5])         # c12\n",
    "print(s[-7:-4])       # c12\n",
    "print(s[2:])          # c123456\n",
    "print(s[:2])          # ab\n",
    "print(s[::2])         # ac246\n",
    "print(s[::-1])        # 654321cba"
   ]
  },
  {
   "cell_type": "code",
   "execution_count": 77,
   "metadata": {},
   "outputs": [
    {
     "name": "stdout",
     "output_type": "stream",
     "text": [
      "False\n",
      "True\n",
      "False\n",
      "True\n",
      "True\n",
      "19977\n",
      "27611\n",
      "12501\n",
      "12455\n",
      "12452\n",
      "True\n",
      "True\n"
     ]
    }
   ],
   "source": [
    "\"\"\"\n",
    "comparison string:\n",
    "\tthe string is compared to the size of the encoding corresponding to each character.\n",
    "\"\"\"\n",
    "s1 = 'a whole new world'\n",
    "s2 = 'hello world'\n",
    "print(s1 == s2)             # False\n",
    "print(s1 < s2)              # True\n",
    "print(s1 == 'hello world')  # False\n",
    "print(s2 == 'hello world')  # True\n",
    "print(s2 != 'Hello world')  # True\n",
    "s3 = '三毛'\n",
    "print(ord('三'))            # 19977\n",
    "print(ord('毛'))            # 27611\n",
    "s4 = 'フェイ'\n",
    "print(ord('フ'))            # 12501\n",
    "print(ord('ェ'))            # 12455\n",
    "print(ord('イ'))            # 12452\n",
    "print(s3 >= s4)             # True\n",
    "print(s3 != s4)             # True"
   ]
  },
  {
   "cell_type": "code",
   "execution_count": 78,
   "metadata": {},
   "outputs": [
    {
     "name": "stdout",
     "output_type": "stream",
     "text": [
      "\n",
      "for_in string by element:\n",
      "h\n",
      "e\n",
      "l\n",
      "l\n",
      "o\n",
      "\n",
      "for_in string by index:\n",
      "h\n",
      "e\n",
      "l\n",
      "l\n",
      "o\n"
     ]
    }
   ],
   "source": [
    "\"\"\"\n",
    "Travalsel String Character\n",
    "\"\"\"\n",
    "s = 'hello'\n",
    "print(\"\\r\\nfor_in string by element:\")\n",
    "for elem in s:\n",
    "    print(elem)\n",
    "print(\"\\r\\nfor_in string by index:\")\n",
    "for i in range(len(s)):\n",
    "    print(s[i])"
   ]
  },
  {
   "cell_type": "markdown",
   "metadata": {},
   "source": [
    "### 3.3 String Methods\n",
    "\n",
    "* Case related operations\n",
    "* Find operation\n",
    "* Judgment of nature\n",
    "* Format string\n",
    "* pruning operation\n",
    "* Replacement operation\n",
    "* Split and merge\n",
    "* encoding and decoding\n",
    "* Other methods"
   ]
  },
  {
   "cell_type": "code",
   "execution_count": 80,
   "metadata": {},
   "outputs": [
    {
     "name": "stdout",
     "output_type": "stream",
     "text": [
      "Hello, man. hello, world!\n",
      "Hello, Man. Hello, World!\n",
      "HELLO, MAN. HELLO, WORLD!\n",
      "goodbye\n",
      "hello, man. hello, world!\n",
      "GOODBYE\n"
     ]
    }
   ],
   "source": [
    "\"\"\"\n",
    "Case related operations, won't affect the original string\n",
    "\tstr.capitalize() : Upper First Character\n",
    "\tstr.title()      : Upper First Character of Each Word\n",
    "\tstr.upper()      : Upper String\n",
    "\tstr.lower()      : Lower String\n",
    "\"\"\"\n",
    "s1 = 'hello, man. hello, world!'\n",
    "# Upper First Characher\n",
    "print(s1.capitalize())  # Hello, man. hello, world!\n",
    "# Upper First Character of Each Word\n",
    "print(s1.title())       # Hello, Man. Hello, World!\n",
    "# Upper String\n",
    "print(s1.upper())       # HELLO, MAN. HELLO, WORLD!\n",
    "s2 = 'GOODBYE'\n",
    "# Lower String\n",
    "print(s2.lower())       # goodbye\n",
    "# operation not affect the original string \n",
    "print(s1)               # hello, man. hello, world!\n",
    "print(s2)               # GOODBYE"
   ]
  },
  {
   "cell_type": "code",
   "execution_count": 81,
   "metadata": {},
   "outputs": [
    {
     "name": "stdout",
     "output_type": "stream",
     "text": [
      "8\n",
      "-1\n",
      "-1\n",
      "8\n"
     ]
    },
    {
     "ename": "ValueError",
     "evalue": "substring not found",
     "output_type": "error",
     "traceback": [
      "\u001b[1;31m---------------------------------------------------------------------------\u001b[0m",
      "\u001b[1;31mValueError\u001b[0m                                Traceback (most recent call last)",
      "Cell \u001b[1;32mIn[81], line 11\u001b[0m\n\u001b[0;32m      9\u001b[0m \u001b[38;5;28mprint\u001b[39m(s\u001b[38;5;241m.\u001b[39mfind(\u001b[38;5;124m'\u001b[39m\u001b[38;5;124mof\u001b[39m\u001b[38;5;124m'\u001b[39m))      \u001b[38;5;66;03m# -1\u001b[39;00m\n\u001b[0;32m     10\u001b[0m \u001b[38;5;28mprint\u001b[39m(s\u001b[38;5;241m.\u001b[39mindex(\u001b[38;5;124m'\u001b[39m\u001b[38;5;124mor\u001b[39m\u001b[38;5;124m'\u001b[39m))     \u001b[38;5;66;03m# 8\u001b[39;00m\n\u001b[1;32m---> 11\u001b[0m \u001b[38;5;28mprint\u001b[39m(\u001b[43ms\u001b[49m\u001b[38;5;241;43m.\u001b[39;49m\u001b[43mindex\u001b[49m\u001b[43m(\u001b[49m\u001b[38;5;124;43m'\u001b[39;49m\u001b[38;5;124;43mor\u001b[39;49m\u001b[38;5;124;43m'\u001b[39;49m\u001b[43m,\u001b[49m\u001b[43m \u001b[49m\u001b[38;5;241;43m9\u001b[39;49m\u001b[43m)\u001b[49m)  \u001b[38;5;66;03m# ValueError: substring not found\u001b[39;00m\n",
      "\u001b[1;31mValueError\u001b[0m: substring not found"
     ]
    }
   ],
   "source": [
    "\"\"\"\n",
    "Find operation\n",
    "\tstr.find(f_str[, index]), return index. if not found, return -1\n",
    "\tstr.index(f_str[, index]), return index. if not found, raise `ValueError`\n",
    "\"\"\"\n",
    "s = 'hello, world!'\n",
    "print(s.find('or'))      # 8\n",
    "print(s.find('or', 9))   # -1\n",
    "print(s.find('of'))      # -1\n",
    "print(s.index('or'))     # 8\n",
    "print(s.index('or', 9))  # ValueError: substring not found"
   ]
  },
  {
   "cell_type": "code",
   "execution_count": 83,
   "metadata": {},
   "outputs": [
    {
     "name": "stdout",
     "output_type": "stream",
     "text": [
      "False\n",
      "True\n",
      "True\n",
      "False\n",
      "False\n",
      "True\n",
      "True\n"
     ]
    }
   ],
   "source": [
    "\"\"\"\n",
    "Judgment of nature\n",
    "\tstr.startswith(s_str)  : return Ture or False\n",
    "\tstr.endswith(e_str)    : return Ture or False\n",
    "\tstr.isdigit()          : return Ture or False, determine whether is completely composed of numbers\n",
    "\tstr.isalpha()          : return Ture or False, determine whether is completely composed of letters\n",
    "\tstr.isalnum()          : return Ture or False, determine whether is made up of letters and numbers\n",
    "\"\"\"\n",
    "s1 = 'hello, world!'\n",
    "print(s1.startswith('He'))   # False\n",
    "print(s1.startswith('hel'))  # True\n",
    "print(s1.endswith('!'))      # True\n",
    "s2 = 'abc123456'\n",
    "s3 = 'abc'\n",
    "print(s2.isdigit())  # False\n",
    "print(s2.isalpha())  # False\n",
    "print(s3.isalpha())  # True\n",
    "print(s2.isalnum())  # True"
   ]
  },
  {
   "cell_type": "code",
   "execution_count": 87,
   "metadata": {},
   "outputs": [
    {
     "name": "stdout",
     "output_type": "stream",
     "text": [
      "****hello, world****\n",
      "        hello, world\n",
      "hello, world~~~~~~~~\n",
      "00033\n",
      "-0033\n",
      "00321 * 00123 = 39483\n"
     ]
    }
   ],
   "source": [
    "\"\"\"\n",
    "Format string\n",
    "\"\"\"\n",
    "s = 'hello, world'\n",
    "print(s.center(20, '*'))  # ****hello, world****\n",
    "print(s.rjust(20))        #         hello, world\n",
    "print(s.ljust(20, '~'))   # hello, world~~~~~~~~\n",
    "print('33'.zfill(5))      # 00033\n",
    "print('-33'.zfill(5))     # -0033\n",
    "a = 321\n",
    "b = 123\n",
    "print(f'{str(a).zfill(5)} * {str(b).zfill(5)} = {a * b}')"
   ]
  },
  {
   "cell_type": "code",
   "execution_count": 88,
   "metadata": {},
   "outputs": [
    {
     "name": "stdout",
     "output_type": "stream",
     "text": [
      "test@126.com\n",
      "hello, world~\n",
      "~hello, world\n"
     ]
    }
   ],
   "source": [
    "\"\"\"\n",
    "pruning operation\n",
    "\"\"\"\n",
    "s1 = '   test@126.com  '\n",
    "print(s1.strip())           # test@126.com\n",
    "s2 = '~hello, world~'     \n",
    "print(s2.lstrip('~'))       # hello, world~\n",
    "print(s2.rstrip('~'))       # ~hello, world"
   ]
  },
  {
   "cell_type": "code",
   "execution_count": 89,
   "metadata": {},
   "outputs": [
    {
     "name": "stdout",
     "output_type": "stream",
     "text": [
      "hell@, g@@d w@rld\n",
      "hell@, g@od world\n"
     ]
    }
   ],
   "source": [
    "\"\"\"\n",
    "Replacement operation\n",
    "\tstr.replace(substr, replace_str[, replace_times])\n",
    "\"\"\"\n",
    "s = 'hello, good world'\n",
    "print(s.replace('o', '@'))     # hell@, g@@d w@rld\n",
    "print(s.replace('o', '@', 2))  # hell@, g@od world"
   ]
  },
  {
   "cell_type": "code",
   "execution_count": 90,
   "metadata": {},
   "outputs": [
    {
     "name": "stdout",
     "output_type": "stream",
     "text": [
      "['I', 'love', 'you']\n",
      "I~love~you\n"
     ]
    }
   ],
   "source": [
    "\"\"\"\n",
    "Split and merge\n",
    "\tstr.split()\n",
    "\tdelimiter_str.join(str)\n",
    "\"\"\"\n",
    "s = 'I love you'\n",
    "words = s.split()\n",
    "print(words)            # ['I', 'love', 'you']\n",
    "print('~'.join(words))  # I~love~you"
   ]
  },
  {
   "cell_type": "code",
   "execution_count": 91,
   "metadata": {},
   "outputs": [
    {
     "name": "stdout",
     "output_type": "stream",
     "text": [
      "b'AEC\\xe4\\xb8\\xad\\xe6\\x96\\x87\\xe3\\x83\\x95\\xe3\\x82\\xa7\\xe3\\x82\\xa4'\n",
      "b'AEC\\xd6\\xd0\\xce\\xc4\\xa5\\xd5\\xa5\\xa7\\xa5\\xa4'\n",
      "AEC中文フェイ\n",
      "AEC中文フェイ\n"
     ]
    }
   ],
   "source": [
    "\"\"\"\n",
    "encoding and decoding\n",
    "\"\"\"\n",
    "a = 'AEC中文フェイ'\n",
    "b = a.encode('utf-8')\n",
    "c = a.encode('gbk')\n",
    "print(b)                  # b'\\xe9\\xaa\\x86\\xe6\\x98\\x8a'\n",
    "print(c)                  # b'\\xc2\\xe6\\xea\\xbb'\n",
    "print(b.decode('utf-8'))  # 骆昊\n",
    "print(c.decode('gbk'))    # 骆昊"
   ]
  },
  {
   "cell_type": "markdown",
   "metadata": {},
   "source": [
    "## 4 Sets\n",
    "\n",
    "set is an **unordered** collection with **no duplicate elements**\n",
    "\n",
    "### 4.1 Create Sets"
   ]
  },
  {
   "cell_type": "code",
   "execution_count": 97,
   "metadata": {},
   "outputs": [
    {
     "name": "stdout",
     "output_type": "stream",
     "text": [
      "set()\n",
      "{'pear', 'apple', 'banana', 'orange'}\n",
      "{'pear', 'apple', 'banana', 'orange'}\n",
      "{'r', 'd', 'b', 'a', 'c'}\n"
     ]
    }
   ],
   "source": [
    "\"\"\"\n",
    "\tempty set     : only use `set()`, not Curly braces(`{}`)\n",
    "\tnot empty set ：use `set()` or Curly braces(`{}`)\n",
    "\t\tset(string) will use letters as elements\n",
    "\"\"\"\n",
    "empty_set = set()\n",
    "print(empty_set)\n",
    "set1 = {'apple', 'orange', 'apple', 'pear', 'orange', 'banana'}\n",
    "print(set1)            # {'orange', 'banana', 'pear', 'apple'}\n",
    "set2 = set(['apple', 'orange', 'apple', 'pear', 'orange', 'banana'])\n",
    "print(set2)            # {'orange', 'banana', 'pear', 'apple'}\n",
    "set2 = set('abracadabra')\n",
    "print(set2)            # {'a', 'r', 'b', 'c', 'd'}"
   ]
  },
  {
   "cell_type": "code",
   "execution_count": 98,
   "metadata": {},
   "outputs": [
    {
     "name": "stdout",
     "output_type": "stream",
     "text": [
      "{'d', 'r'}\n"
     ]
    }
   ],
   "source": [
    "\"\"\"\n",
    "\tset comprehensions  \n",
    "\"\"\"\n",
    "a = {x for x in 'abracadabra' if x not in 'abc'}\n",
    "print(a)      # {'r', 'd'}"
   ]
  },
  {
   "cell_type": "markdown",
   "metadata": {},
   "source": [
    "### 4.2 Set operations"
   ]
  },
  {
   "cell_type": "code",
   "execution_count": 99,
   "metadata": {},
   "outputs": [
    {
     "name": "stdout",
     "output_type": "stream",
     "text": [
      "{1, 100, 1000, 10, 10000}\n",
      "{1, 1000, 10000}\n",
      "set()\n"
     ]
    }
   ],
   "source": [
    "\"\"\"\n",
    "collection methods\n",
    "\tset.add(ele)    : add element\n",
    "\tset.remove(ele) : remove element. if not exists, raise `KeyError`\n",
    "\tset.clear()     : clear element\n",
    "\"\"\"\n",
    "set1 = {1, 10, 100}\n",
    "\n",
    "set1.add(1000)\n",
    "set1.add(10000)\n",
    "print(set1)  # {1, 100, 1000, 10, 10000}\n",
    "\n",
    "set1.discard(10)\n",
    "if 100 in set1:\n",
    "    set1.remove(100)\n",
    "print(set1)  # {1, 1000, 10000}\n",
    "\n",
    "set1.clear()\n",
    "print(set1)  # set()"
   ]
  },
  {
   "cell_type": "code",
   "execution_count": 106,
   "metadata": {},
   "outputs": [
    {
     "name": "stdout",
     "output_type": "stream",
     "text": [
      "False\n",
      "True\n",
      "False\n",
      "True\n"
     ]
    }
   ],
   "source": [
    "\"\"\"\n",
    " `in` or `not in`\n",
    "\"\"\"\n",
    "set1 = {11, 12, 13, 14, 15}\n",
    "print(10 in set1)      # False \n",
    "print(15 in set1)      # True\n",
    "set2 = {'Python', 'Java', 'C++', 'Swift'}\n",
    "print('Ruby' in set2)  # False\n",
    "print('Java' in set2)  # True"
   ]
  },
  {
   "cell_type": "code",
   "execution_count": 107,
   "metadata": {},
   "outputs": [
    {
     "name": "stdout",
     "output_type": "stream",
     "text": [
      "{2, 4, 6}\n",
      "{2, 4, 6}\n",
      "{1, 2, 3, 4, 5, 6, 7, 8, 10}\n",
      "{1, 2, 3, 4, 5, 6, 7, 8, 10}\n",
      "{1, 3, 5, 7}\n",
      "{1, 3, 5, 7}\n",
      "{1, 3, 5, 7, 8, 10}\n",
      "{1, 3, 5, 7, 8, 10}\n",
      "{1, 2, 3, 4, 5, 6, 7}\n",
      "{3, 6}\n",
      "{2, 4}\n"
     ]
    }
   ],
   "source": [
    "\"\"\"\n",
    "\ta intersection b           : elements in a but not in b\n",
    "\ta union b                  : elements in a or b or both\n",
    "\ta difference b             : elements in both a and b\n",
    "\ta symmetric difference b   : elements in a or b but not both\n",
    "\"\"\"\n",
    "set1 = {1, 2, 3, 4, 5, 6, 7}\n",
    "set2 = {2, 4, 6, 8, 10}\n",
    "\n",
    "# intersection\n",
    "print(set1 & set2)                      # {2, 4, 6}\n",
    "print(set1.intersection(set2))          # {2, 4, 6}\n",
    "\n",
    "# union\n",
    "print(set1 | set2)                      # {1, 2, 3, 4, 5, 6, 7, 8, 10}\n",
    "print(set1.union(set2))                 # {1, 2, 3, 4, 5, 6, 7, 8, 10}\n",
    "\n",
    "# difference\n",
    "print(set1 - set2)                      # {1, 3, 5, 7}\n",
    "print(set1.difference(set2))            # {1, 3, 5, 7}\n",
    "\n",
    "# Symmetric difference\n",
    "print(set1 ^ set2)                      # {1, 3, 5, 7, 8, 10}\n",
    "print(set1.symmetric_difference(set2))  # {1, 3, 5, 7, 8, 10}\n",
    "\n",
    "set1 = {1, 3, 5, 7}\n",
    "set2 = {2, 4, 6}\n",
    "set1 |= set2\n",
    "print(set1)  # {1, 2, 3, 4, 5, 6, 7}\n",
    "set3 = {3, 6, 9}\n",
    "set1 &= set3\n",
    "print(set1)  # {3, 6}\n",
    "set2 -= set1\n",
    "print(set2)  # {2, 4}"
   ]
  },
  {
   "cell_type": "code",
   "execution_count": 108,
   "metadata": {},
   "outputs": [
    {
     "name": "stdout",
     "output_type": "stream",
     "text": [
      "True\n",
      "True\n",
      "True\n",
      "False\n",
      "True\n"
     ]
    }
   ],
   "source": [
    "\"\"\"\n",
    "comparison operation\n",
    "\t==    : If the elements in the two sets are exactly the same\n",
    "\ta.issubset(b) \n",
    "\tb.issuperset(a) : determine whether a is subset of a\n",
    "\ta.isdisjoint(b) : determine whether a and b have the same elements\n",
    "\"\"\"\n",
    "set1 = {1, 3, 5}\n",
    "set2 = {1, 2, 3, 4, 5}\n",
    "set3 = {5, 4, 3, 2, 1}\n",
    "set4 = {7, 8, 9}\n",
    "\n",
    "print(set2 == set3)           # True\n",
    "print(set1.issubset(set2))    # True\n",
    "print(set2.issuperset(set1))  # True\n",
    "print(set1.isdisjoint(set2))  # True\n",
    "print(set1.isdisjoint(set4))  # False"
   ]
  }
 ],
 "metadata": {
  "kernelspec": {
   "display_name": ".venv",
   "language": "python",
   "name": "python3"
  },
  "language_info": {
   "codemirror_mode": {
    "name": "ipython",
    "version": 3
   },
   "file_extension": ".py",
   "mimetype": "text/x-python",
   "name": "python",
   "nbconvert_exporter": "python",
   "pygments_lexer": "ipython3",
   "version": "3.11.9"
  }
 },
 "nbformat": 4,
 "nbformat_minor": 2
}
