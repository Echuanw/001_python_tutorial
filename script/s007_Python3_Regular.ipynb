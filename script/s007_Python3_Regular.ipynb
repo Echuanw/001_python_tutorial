{
 "cells": [
  {
   "cell_type": "markdown",
   "metadata": {},
   "source": [
    "## 3 Use of Regular Expression\n",
    "\n",
    "Python provides the `re` module to support regular expression related operations. The following are the core functions in the re module.\n",
    "\n",
    "| function                                     | illustrate                                                                                                                                                       |\n",
    "| -------------------------------------------- | ---------------------------------------------------------------------------------------------------------------------------------------------------------------- |\n",
    "| `compile(pattern, flags=0)`                  | Compiling a regular expression returns a regular expression object                                                                                               |\n",
    "| `match(pattern, string, flags=0)`            | Matches a string with a regular expression and returns the matching object if successful, otherwise None is returned.                                            |\n",
    "| `search(pattern, string, flags=0)`           | The first occurrence of the regular expression pattern in the search string returns a matching object successfully, otherwise None is returned.                  |\n",
    "| split(pattern, string, maxsplit=0, flags=0)  | Split string with pattern delimiter specified by regular expression return list                                                                                  |\n",
    "| sub(pattern, repl, string, count=0, flags=0) | Use the specified string to replace the pattern matching the regular expression in the original string. You can use count to specify the number of replacements. |\n",
    "| fullmatch(pattern, string, flags=0)          | The exact match (from the beginning to the end of the string) version of the match function                                                                      |\n",
    "| `findall(pattern, string, flags=0)`          | Finds all patterns in a string that match a regular expression and returns a list of strings                                                                     |\n",
    "| `finditer(pattern, string, flags=0)`         | Finds all patterns in a string that match a regular expression and returns an iterator                                                                           |\n",
    "| purge()                                      | Clear cache of implicitly compiled regular expressions                                                                                                           |\n",
    "| re.I / re.IGNORECASE                         | Ignore case matching tags                                                                                                                                        |\n",
    "| re.M / re.MULTILINE                          | multi-line match tag                                                                                                                                             |\n"
   ]
  },
  {
   "cell_type": "markdown",
   "metadata": {},
   "source": [
    "### 3.1 re and match object"
   ]
  },
  {
   "cell_type": "code",
   "execution_count": 3,
   "metadata": {},
   "outputs": [
    {
     "name": "stdout",
     "output_type": "stream",
     "text": [
      "Full match: Hello, welcome\n",
      "Full match: Hello, welcome\n",
      "Full match: Hello\n",
      "Full match: welcome\n"
     ]
    }
   ],
   "source": [
    "\"\"\"\n",
    "    regular rxpression object can call function without parttern\n",
    "\"\"\"\n",
    "import re\n",
    "text = \"Hello, welcome to Python.\"\n",
    "re_obj = re.compile(r'(Hello), (welcome)')\n",
    "match = re_obj.search(text)\n",
    "if match:\n",
    "    print(\"Full match:\", match.group())     # output: Full match: Hello, welcome\n",
    "    print(\"Full match:\", match.group(0))     # output: Full match: Hello, welcome\n",
    "    print(\"Full match:\", match.group(1))     # output: Full match: Hello\n",
    "    print(\"Full match:\", match.group(2))     # output: Full match: welcome"
   ]
  },
  {
   "cell_type": "markdown",
   "metadata": {},
   "source": [
    "\n",
    "The match object is the result object. When you use methods like `re.match()`, `re.search()`, or `re.finditer()` to find matches, the returned object is a match object."
   ]
  },
  {
   "cell_type": "code",
   "execution_count": 4,
   "metadata": {},
   "outputs": [
    {
     "name": "stdout",
     "output_type": "stream",
     "text": [
      "Matched text: Python\n",
      "Start index: 0\n",
      "End index: 6\n",
      "Span: (0, 6)\n"
     ]
    }
   ],
   "source": [
    "\"\"\"\n",
    "* match.group()        : return Full match\n",
    "* match.group(num)     : return group match, group 0 return full match.\n",
    "* match.start()        : return Start index\n",
    "* match.end()          : return End index\n",
    "* match.span()         : return Span\n",
    "\"\"\"\n",
    "import re\n",
    "\n",
    "text = \"Python is great, and Python is easy to learn.\"\n",
    "match = re.search(r'Python', text)\n",
    "if match:\n",
    "    print(\"Matched text:\", match.group())   # output: Matched text: Python\n",
    "    print(\"Start index:\", match.start())    # output: Start index: 0\n",
    "    print(\"End index:\", match.end())        # output: End index: 6\n",
    "    print(\"Span:\", match.span())            # output: Span: (0, 6)"
   ]
  },
  {
   "cell_type": "markdown",
   "metadata": {},
   "source": [
    "### 3.2 Find \n",
    "\n",
    "* `re.search(pattern, string)`         find the first occurrence of a string or return None\n",
    "* `re.findall(pattern, string)`        return list composited by all match string \n",
    "* `re.finditer(pattern, string)`        return iterator composited by all match string "
   ]
  },
  {
   "cell_type": "code",
   "execution_count": 5,
   "metadata": {},
   "outputs": [
    {
     "name": "stdout",
     "output_type": "stream",
     "text": [
      "Found: Python\n"
     ]
    }
   ],
   "source": [
    "\"\"\"\n",
    " `re.search(pattern, string)`         find the first occurrence of a string or return None\n",
    "\"\"\"\n",
    "import re\n",
    "\n",
    "text = \"Hello, welcome to the world of Python.\"\n",
    "match = re.search(r'Python', text)\n",
    "\n",
    "if match:\n",
    "    print(\"Found:\", match.group())  # 输出: Found: Python\n",
    "else:\n",
    "    print(\"Not found.\")"
   ]
  },
  {
   "cell_type": "code",
   "execution_count": 7,
   "metadata": {},
   "outputs": [
    {
     "name": "stdout",
     "output_type": "stream",
     "text": [
      "Matches found: ['in ', 'in ', 'in ', 'in ']\n"
     ]
    }
   ],
   "source": [
    "\"\"\"\n",
    "re.findall(pattern, string)       # return list composited by all match string \n",
    "\"\"\"\n",
    "import re\n",
    "\n",
    "text = \"The rain in Spain stays mainly in the plain.\"\n",
    "matches = re.findall(r'in ', text)\n",
    "print(\"Matches found:\", matches)   # 输出: Matches found: ['in ', 'in ', 'in ', 'in ']"
   ]
  },
  {
   "cell_type": "code",
   "execution_count": 8,
   "metadata": {},
   "outputs": [
    {
     "name": "stdout",
     "output_type": "stream",
     "text": [
      "Match found at index: 6\n",
      "Match found at index: 9\n",
      "Match found at index: 15\n",
      "Match found at index: 26\n",
      "Match found at index: 31\n",
      "Match found at index: 41\n"
     ]
    }
   ],
   "source": [
    "\"\"\"\n",
    "re.finditer(pattern, string)       # return iterator composited by all match string \n",
    "\"\"\"\n",
    "import re\n",
    "\n",
    "text = \"The rain in Spain stays mainly in the plain.\"\n",
    "matches = re.finditer(r'in', text)\n",
    "\n",
    "for match in matches:\n",
    "    print(\"Match found at index:\", match.start())  #  Match found at index: 6 ...."
   ]
  },
  {
   "cell_type": "markdown",
   "metadata": {},
   "source": [
    "### 3.3 Match\n",
    "\n",
    "* `re.match(r'regular_expression', string)`\n",
    "* `re_obj.match(string)`\n"
   ]
  },
  {
   "cell_type": "code",
   "execution_count": 9,
   "metadata": {},
   "outputs": [
    {
     "name": "stdout",
     "output_type": "stream",
     "text": [
      "please input vaild passwd.\n"
     ]
    }
   ],
   "source": [
    "\"\"\"\n",
    "Vaildate username and password is vaild and provide corresponding prompt messages\n",
    "- **Username**: Must consist of letters, digits, or underscores, and have a length of 6 to 20 characters.\n",
    "- **password**: Must be a 5 to 12 digit number, with the first digit not being 0.\n",
    "\"\"\"\n",
    "import re\n",
    "\n",
    "def main():\n",
    "    username = input('please input username: ')\n",
    "    passwd = input('please input passwd: ')\n",
    "    m1 = re.match(r'^[0-9a-zA-Z_]{6,20}$', username)       # use re.match(pattern, string)\n",
    "    if not m1:\n",
    "        print('please input vaild username.')\n",
    "    re_obj = re.compile(r'^[1-9]\\d{4,11}$')                # use re_obj.match(string), last is equivalent to this\n",
    "    m2 = re_obj.match(passwd)\n",
    "    if not m2:\n",
    "        print('please input vaild passwd.')\n",
    "    if m1 and m2:\n",
    "        print('you input is vaild !!!')\n",
    "\n",
    "if __name__ == '__main__':\n",
    "    main()"
   ]
  },
  {
   "cell_type": "markdown",
   "metadata": {},
   "source": [
    "### 3.4 Split\n",
    "\n",
    "* `re.split(pattern, string)`   split string by pattern, return list \n"
   ]
  },
  {
   "cell_type": "code",
   "execution_count": 11,
   "metadata": {},
   "outputs": [
    {
     "name": "stdout",
     "output_type": "stream",
     "text": [
      "['窗前明月光', '疑是地上霜', '举头望明月', '低头思故乡', '']\n",
      "['窗前明月光', '疑是地上霜', '举头望明月', '低头思故乡']\n"
     ]
    }
   ],
   "source": [
    "\"\"\"\n",
    "`re.split(pattern, string)`   split string by pattern, return list \n",
    "\"\"\"\n",
    "import re\n",
    "\n",
    "def main():\n",
    "    poem = '窗前明月光，疑是地上霜。举头望明月，低头思故乡。'\n",
    "    sentence_list = re.split(r'[，。, .]', poem)\n",
    "    print(sentence_list)                           # ['窗前明月光', '疑是地上霜', '举头望明月', '低头思故乡','']\n",
    "    while '' in sentence_list:\n",
    "        sentence_list.remove('')\n",
    "    print(sentence_list)                           # ['窗前明月光', '疑是地上霜', '举头望明月', '低头思故乡']\n",
    "\n",
    "\n",
    "if __name__ == '__main__':\n",
    "    main()"
   ]
  },
  {
   "cell_type": "markdown",
   "metadata": {},
   "source": [
    "### 3.5 Replace\n",
    "\n",
    "* `re.sub(pattern, replace_word, modify_string)`      Replace parts of a string that match a regular expression pattern."
   ]
  },
  {
   "cell_type": "code",
   "execution_count": 13,
   "metadata": {},
   "outputs": [
    {
     "name": "stdout",
     "output_type": "stream",
     "text": [
      "你丫是*吗? 我*你大爷的. * you.\n"
     ]
    }
   ],
   "source": [
    "\"\"\"\n",
    "`re.sub()`      Replace parts of a string that match a regular expression pattern.\n",
    "\"\"\"\n",
    "import re\n",
    "\n",
    "def main():\n",
    "    sentence = '你丫是傻B吗? 我操你大爷的. Fuck you.'\n",
    "    purified = re.sub('[操肏艹]|fuck|shit|傻[B比屄逼叉缺吊屌]|煞笔',\n",
    "                      '*', sentence, flags=re.IGNORECASE)     #  flags=re.IGNORECASE 不区分大小写\n",
    "    print(purified)  # 你丫是*吗? 我*你大爷的. * you.\n",
    "\n",
    "if __name__ == '__main__':\n",
    "    main()"
   ]
  },
  {
   "cell_type": "markdown",
   "metadata": {},
   "source": [
    "### 3.6 group\n",
    "\n",
    "* `match(r'()', string)`"
   ]
  },
  {
   "cell_type": "code",
   "execution_count": 14,
   "metadata": {},
   "outputs": [
    {
     "name": "stdout",
     "output_type": "stream",
     "text": [
      "Full match: Hello, welcome\n",
      "Full match: Hello, welcome\n",
      "Full match: Hello\n",
      "Full match: welcome\n"
     ]
    }
   ],
   "source": [
    "import re\n",
    "text = \"Hello, welcome to Python.\"\n",
    "re_obj = re.compile(r'(Hello), (welcome)')\n",
    "match = re_obj.search(text)\n",
    "if match:\n",
    "    print(\"Full match:\", match.group())     # output: Full match: Hello, welcome\n",
    "    print(\"Full match:\", match.group(0))     # output: Full match: Hello, welcome\n",
    "    print(\"Full match:\", match.group(1))     # output: Full match: Hello\n",
    "    print(\"Full match:\", match.group(2))     # output: Full match: welcome"
   ]
  }
 ],
 "metadata": {
  "kernelspec": {
   "display_name": ".venv",
   "language": "python",
   "name": "python3"
  },
  "language_info": {
   "codemirror_mode": {
    "name": "ipython",
    "version": 3
   },
   "file_extension": ".py",
   "mimetype": "text/x-python",
   "name": "python",
   "nbconvert_exporter": "python",
   "pygments_lexer": "ipython3",
   "version": "3.11.9"
  }
 },
 "nbformat": 4,
 "nbformat_minor": 2
}
