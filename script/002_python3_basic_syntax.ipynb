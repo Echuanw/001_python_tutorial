{
 "cells": [
  {
   "cell_type": "markdown",
   "metadata": {},
   "source": [
    "## 1 Variables in the Python\n",
    "\n",
    "### 1.1 Variables and types\n"
   ]
  },
  {
   "cell_type": "code",
   "execution_count": 2,
   "metadata": {},
   "outputs": [
    {
     "name": "stdout",
     "output_type": "stream",
     "text": [
      "4\n",
      "64\n",
      "100\n",
      "256\n"
     ]
    }
   ],
   "source": [
    "print(0b100)  # BIN binary\n",
    "print(0o100)  # OCT octal\n",
    "print(100)    # DEC decimal\n",
    "print(0x100)  # HEX hexadecimal"
   ]
  },
  {
   "cell_type": "code",
   "execution_count": 3,
   "metadata": {},
   "outputs": [
    {
     "name": "stdout",
     "output_type": "stream",
     "text": [
      "123.456\n",
      "123.456\n"
     ]
    }
   ],
   "source": [
    "print(123.456)    # decimals\n",
    "print(1.23456e2)  # scientific notation"
   ]
  },
  {
   "cell_type": "markdown",
   "metadata": {},
   "source": [
    "### 1.3 Use of variables"
   ]
  },
  {
   "cell_type": "code",
   "execution_count": 4,
   "metadata": {},
   "outputs": [
    {
     "name": "stdout",
     "output_type": "stream",
     "text": [
      "<class 'int'>\n",
      "<class 'float'>\n",
      "<class 'str'>\n",
      "<class 'bool'>\n"
     ]
    }
   ],
   "source": [
    "\"\"\"\n",
    "use `type`functions to check the type of variables\n",
    "\"\"\"\n",
    "a = 100\n",
    "b = 123.45\n",
    "c = 'hello, world'\n",
    "d = True\n",
    "print(type(a))  # <class 'int'>\n",
    "print(type(b))  # <class 'float'>\n",
    "print(type(c))  # <class 'str'>\n",
    "print(type(d))  # <class 'bool'>"
   ]
  },
  {
   "cell_type": "code",
   "execution_count": 11,
   "metadata": {},
   "outputs": [
    {
     "name": "stdout",
     "output_type": "stream",
     "text": [
      "100.0\n",
      "123\n",
      "123\n",
      "291\n",
      "4\n",
      "123.45\n",
      "True\n",
      "1\n",
      "d\n",
      "100\n",
      "True\n"
     ]
    },
    {
     "ename": "ValueError",
     "evalue": "invalid literal for int() with base 10: 'hello, world'",
     "output_type": "error",
     "traceback": [
      "\u001b[1;31m---------------------------------------------------------------------------\u001b[0m",
      "\u001b[1;31mValueError\u001b[0m                                Traceback (most recent call last)",
      "Cell \u001b[1;32mIn[11], line 20\u001b[0m\n\u001b[0;32m     18\u001b[0m \u001b[38;5;28mprint\u001b[39m(\u001b[38;5;28mord\u001b[39m(\u001b[38;5;124m'\u001b[39m\u001b[38;5;124md\u001b[39m\u001b[38;5;124m'\u001b[39m))             \u001b[38;5;66;03m# convert str   'd'     into  int 100\u001b[39;00m\n\u001b[0;32m     19\u001b[0m \u001b[38;5;28mprint\u001b[39m(\u001b[38;5;28mbool\u001b[39m(\u001b[38;5;124m'\u001b[39m\u001b[38;5;124mfalse\u001b[39m\u001b[38;5;124m'\u001b[39m))        \u001b[38;5;66;03m# convert str   'false' into bool True\u001b[39;00m\n\u001b[1;32m---> 20\u001b[0m \u001b[38;5;28mprint\u001b[39m(\u001b[38;5;28;43mint\u001b[39;49m\u001b[43m(\u001b[49m\u001b[38;5;124;43m'\u001b[39;49m\u001b[38;5;124;43mhello, world\u001b[39;49m\u001b[38;5;124;43m'\u001b[39;49m\u001b[43m)\u001b[49m)  \u001b[38;5;66;03m# convert str   'hello, world' into int, raise VauleError\u001b[39;00m\n",
      "\u001b[1;31mValueError\u001b[0m: invalid literal for int() with base 10: 'hello, world'"
     ]
    }
   ],
   "source": [
    "\"\"\"\n",
    "change the type of variables through Python's built-in functions\n",
    "- `int()`  : Convert a numerical value or string into an integer, you can specify the base.\n",
    "- `float()`: Convert a string (when possible) to a floating point number.\n",
    "- `str()`  : Convert the specified object into string form, and you can specify the encoding method.\n",
    "- `chr()`  : Convert an integer (character encoding) into the corresponding (one-character) string.\n",
    "- `ord()`  : Convert a (one-character) string into the corresponding integer (character encoding).\n",
    "\"\"\"  \n",
    "print(float(100))           # convert int   100     into  float 100.0\n",
    "print(int(123.45))          # convert float 123.45  into  int 123\n",
    "print(int('123'))           # convert str   '123'   into  int 123\n",
    "print(int('123', base=16))  # convert str   '123'   into  int 291\n",
    "print(int('100', base=2))   # convert str   '100'   into  int 4\n",
    "print(float('123.45'))      # convert str   '123.45' into float 123.45\n",
    "print(bool('hello, world')) # convert str   'hello, world' into bool True\n",
    "print(int(True))            # convert bool  True    into  int 1\n",
    "print(chr(100))             # convert int   100     into  str 'd'\n",
    "print(ord('d'))             # convert str   'd'     into  int 100\n",
    "print(bool('false'))        # convert str   'false' into bool True\n",
    "print(int('hello, world'))  # convert str   'hello, world' into int, raise VauleError"
   ]
  },
  {
   "cell_type": "code",
   "execution_count": 21,
   "metadata": {},
   "outputs": [
    {
     "name": "stdout",
     "output_type": "stream",
     "text": [
      "100 hello, world 123 100\n",
      "123 100 hello, world 100\n"
     ]
    }
   ],
   "source": [
    "\"\"\"\n",
    "\tVariable Swap\n",
    "\"\"\"\n",
    "a = 100\n",
    "b = 'hello, world'\n",
    "c = '123'\n",
    "d = '100'\n",
    "print(a, b, c, d)\n",
    "d, c, a, b = a, b, c, d\n",
    "print(a, b, c, d)"
   ]
  },
  {
   "cell_type": "markdown",
   "metadata": {},
   "source": [
    "## 2 Operators in Python"
   ]
  },
  {
   "cell_type": "code",
   "execution_count": 14,
   "metadata": {},
   "outputs": [
    {
     "name": "stdout",
     "output_type": "stream",
     "text": [
      "17\n",
      "-7\n",
      "60\n",
      "0.4166666666666667\n",
      "125\n",
      "2\n",
      "1\n"
     ]
    }
   ],
   "source": [
    "\"\"\"\n",
    " Arithmetic operators\n",
    "\"\"\"\n",
    "print(5 + 12)    # 17\n",
    "print(5 - 12)    # -7\n",
    "print(5 * 12)    # 60\n",
    "print(5 / 12)    # 0.4166666666666667\n",
    "print(5 ** 3)    # 125\n",
    "print(25 // 12)  # 2      25 / 12 = 2 ······ 1\n",
    "print(25 % 12)   # 1"
   ]
  },
  {
   "cell_type": "code",
   "execution_count": 15,
   "metadata": {},
   "outputs": [
    {
     "name": "stdout",
     "output_type": "stream",
     "text": [
      "3\n",
      "3\n"
     ]
    }
   ],
   "source": [
    "\"\"\"\n",
    " Assignment operators\n",
    "\"\"\"\n",
    "print(x:=3)     # x = 3  print(x)"
   ]
  },
  {
   "cell_type": "markdown",
   "metadata": {},
   "source": [
    "## 3 Control flow in Python\n",
    "\n",
    "### 3.1 Branch Structure"
   ]
  },
  {
   "cell_type": "code",
   "execution_count": 16,
   "metadata": {},
   "outputs": [
    {
     "name": "stdout",
     "output_type": "stream",
     "text": [
      "More\n"
     ]
    }
   ],
   "source": [
    "\"\"\"\n",
    "if Statements\n",
    "\"\"\"\n",
    "x = 3\n",
    "if x < 0:\n",
    "    x = 0\n",
    "    print('Negative changed to zero')\n",
    "elif x == 0:\n",
    "    print('Zero')\n",
    "elif x == 1:\n",
    "    print('Single')\n",
    "else:\n",
    "    print('More')"
   ]
  },
  {
   "cell_type": "code",
   "execution_count": 1,
   "metadata": {},
   "outputs": [
    {
     "data": {
      "text/plain": [
       "'Bad request'"
      ]
     },
     "execution_count": 1,
     "metadata": {},
     "output_type": "execute_result"
    }
   ],
   "source": [
    "\"\"\"\n",
    "match \n",
    "\tswitch case like\n",
    "\tMatch statements require Python 3.10 or newer\n",
    "\"\"\"\n",
    "def http_error(status):\n",
    "    match status:\n",
    "        case 400 | 401 | 402 | 403: # combine several literals in a single pattern using `|`\n",
    "            return \"Bad request\"\n",
    "        case 404:\n",
    "            return \"Not found\"\n",
    "        case 418:\n",
    "            return \"I'm a teapot\"\n",
    "        case _:                     # `_` switch default like, use for else status\n",
    "            return \"Something's wrong with the internet\"\n",
    "\n",
    "http_error(400)\n",
    "\n",
    "# class Point:\n",
    "#     x: int\n",
    "#     y: int\n",
    "# def where_is(point):\n",
    "#     match point:\n",
    "#         case Point(x=0, y=0):\n",
    "#             print(\"Origin\")\n",
    "#         case Point(x=0, y=y):\n",
    "#             print(f\"Y={y}\")\n",
    "#         case Point(x=x, y=0):\n",
    "#             print(f\"X={x}\")\n",
    "#         case Point():\n",
    "#             print(\"Somewhere else\")\n",
    "#         case _:\n",
    "#             print(\"Not a point\")"
   ]
  },
  {
   "cell_type": "markdown",
   "metadata": {},
   "source": [
    "### 3.2 Loop Structure"
   ]
  },
  {
   "cell_type": "code",
   "execution_count": 20,
   "metadata": {},
   "outputs": [
    {
     "name": "stdout",
     "output_type": "stream",
     "text": [
      "cat 3\n",
      "window 6\n",
      "defenestrate 12\n",
      "3\n",
      "4\n",
      "5\n",
      "2 is a prime number\n",
      "3 is a prime number\n",
      "4 equals 2 * 2\n",
      "5 is a prime number\n",
      "6 equals 2 * 3\n",
      "7 is a prime number\n",
      "8 equals 2 * 4\n",
      "9 equals 3 * 3\n",
      "Found an even number 2\n",
      "Found an odd number 3\n",
      "Found an even number 4\n",
      "Found an odd number 5\n",
      "Found an even number 6\n",
      "Found an odd number 7\n",
      "Found an even number 8\n",
      "Found an odd number 9\n"
     ]
    }
   ],
   "source": [
    "\"\"\"\n",
    "for loop Statements  \n",
    "range() function:\n",
    "\t* range(x,y) return x .... y-1 iterable object\n",
    "\t* range(y) return 0 .... y-1 iterable object\n",
    "break, continue keywords\n",
    "\"\"\"\n",
    "words = ['cat', 'window', 'defenestrate']\n",
    "for w in words:\n",
    "    print(w, len(w))\n",
    "\n",
    "# range(3,6) return iterable object 3,4,5\n",
    "for i in range(3,6):\n",
    "    print(i)\n",
    "\n",
    "# break breaks out of the innermost enclosing for or while loop \n",
    "for n in range(2, 10):\n",
    "   for x in range(2, n):\n",
    "       if n % x == 0:\n",
    "           print(n, 'equals', x, '*', n//x)\n",
    "           break\n",
    "   else:\n",
    "       print(n, 'is a prime number')\n",
    "\n",
    "# continue continues with the next iteration of the loop\n",
    "for num in range(2, 10):\n",
    "    if num % 2 == 0:\n",
    "        print(\"Found an even number\", num)\n",
    "        continue\n",
    "    print(\"Found an odd number\", num)\n"
   ]
  },
  {
   "cell_type": "code",
   "execution_count": 21,
   "metadata": {},
   "outputs": [],
   "source": [
    "\"\"\"\n",
    "pass statement \n",
    "\tdoes nothing\n",
    "\tbe used when a statement is required syntactically but the program requires no action\n",
    "\"\"\"\n",
    "class MyEmptyClass:\n",
    "    pass\n",
    "\n",
    "def initlog(*args):\n",
    "    pass   # Remember to implement this!"
   ]
  },
  {
   "cell_type": "code",
   "execution_count": 22,
   "metadata": {},
   "outputs": [
    {
     "name": "stdout",
     "output_type": "stream",
     "text": [
      "5050\n"
     ]
    }
   ],
   "source": [
    "\"\"\"\n",
    "while loop Statements\n",
    "\"\"\"\n",
    "total = 0\n",
    "i = 1\n",
    "while i <= 100:\n",
    "    total += i\n",
    "    i += 1\n",
    "print(total)"
   ]
  },
  {
   "cell_type": "markdown",
   "metadata": {},
   "source": [
    "### 3.3 Case of Control flow"
   ]
  },
  {
   "cell_type": "code",
   "execution_count": 27,
   "metadata": {},
   "outputs": [
    {
     "name": "stdout",
     "output_type": "stream",
     "text": [
      "9973\n"
     ]
    }
   ],
   "source": [
    "\"\"\"\n",
    "3.3.1 MAX Prime numbers within 10000\n",
    "\"\"\"\n",
    "for num in range(10000, 2, -1):\n",
    "    is_prime = True\n",
    "    for i in range(2, int(num ** 0.5) + 1):\n",
    "        if num % i == 0:\n",
    "            is_prime = False\n",
    "            break\n",
    "    if is_prime:\n",
    "        print(num)\n",
    "        break"
   ]
  }
 ],
 "metadata": {
  "kernelspec": {
   "display_name": ".venv",
   "language": "python",
   "name": "python3"
  },
  "language_info": {
   "codemirror_mode": {
    "name": "ipython",
    "version": 3
   },
   "file_extension": ".py",
   "mimetype": "text/x-python",
   "name": "python",
   "nbconvert_exporter": "python",
   "pygments_lexer": "ipython3",
   "version": "3.11.9"
  }
 },
 "nbformat": 4,
 "nbformat_minor": 2
}
